{
 "cells": [
  {
   "cell_type": "markdown",
   "id": "d223790d-3aa8-4a38-9a83-c4c2f8eebe08",
   "metadata": {},
   "source": [
    "## [Series 데이터 연산]"
   ]
  },
  {
   "cell_type": "markdown",
   "id": "f3df3ec4-630d-46b0-9a68-796a63fec711",
   "metadata": {},
   "source": [
    "(1) 모듈 로딩 <hr>"
   ]
  },
  {
   "cell_type": "code",
   "execution_count": 6,
   "id": "f9679ff6-2448-41c5-b8b3-17d5d1e56e68",
   "metadata": {},
   "outputs": [],
   "source": [
    "import pandas as pd\n",
    "import numpy as np  # import math as m ==> m.nan\n"
   ]
  },
  {
   "cell_type": "markdown",
   "id": "147dd03f-cd18-4fea-a831-0ed6bc4b1304",
   "metadata": {},
   "source": [
    "(2) 데이터 준비 <hr>"
   ]
  },
  {
   "cell_type": "code",
   "execution_count": 50,
   "id": "5ef67f95-e1b6-446c-9245-37f6905e8b3b",
   "metadata": {},
   "outputs": [
    {
     "data": {
      "text/plain": [
       "[5, 7, nan, 9, 11]"
      ]
     },
     "execution_count": 50,
     "metadata": {},
     "output_type": "execute_result"
    }
   ],
   "source": [
    "data = [5, 7, np.nan, 9, 11]\n",
    "data\n"
   ]
  },
  {
   "cell_type": "markdown",
   "id": "3960ed2c-385c-462a-8fd0-b32fcf3a26d1",
   "metadata": {},
   "source": [
    "(3) 데이터 저장 => 1차원 데이터로 Series에 저장"
   ]
  },
  {
   "cell_type": "code",
   "execution_count": 51,
   "id": "423bcdce-8e04-41c7-9d63-069321e131f2",
   "metadata": {},
   "outputs": [],
   "source": [
    "sr = pd.Series(data)\n"
   ]
  },
  {
   "cell_type": "markdown",
   "id": "17a3a6f6-1fa6-4826-a4cd-f8144cb14fe0",
   "metadata": {},
   "source": [
    "(4) 데이터 확인"
   ]
  },
  {
   "cell_type": "code",
   "execution_count": 52,
   "id": "d8f5ad37-ec8e-45fb-a9f4-d02164325618",
   "metadata": {},
   "outputs": [
    {
     "data": {
      "text/plain": [
       "(RangeIndex(start=0, stop=5, step=1), (5,), 1, dtype('float64'), 5)"
      ]
     },
     "execution_count": 52,
     "metadata": {},
     "output_type": "execute_result"
    }
   ],
   "source": [
    "sr.index, sr.shape, sr.ndim, sr.dtype, sr.size\n"
   ]
  },
  {
   "cell_type": "code",
   "execution_count": 53,
   "id": "121f2b57-0126-4812-ad5c-3a397700b1cd",
   "metadata": {},
   "outputs": [
    {
     "data": {
      "text/plain": [
       "array([ 5.,  7., nan,  9., 11.])"
      ]
     },
     "execution_count": 53,
     "metadata": {},
     "output_type": "execute_result"
    }
   ],
   "source": [
    "sr.values\n"
   ]
  },
  {
   "cell_type": "code",
   "execution_count": 54,
   "id": "bd949105",
   "metadata": {},
   "outputs": [
    {
     "data": {
      "text/plain": [
       "True"
      ]
     },
     "execution_count": 54,
     "metadata": {},
     "output_type": "execute_result"
    }
   ],
   "source": [
    "sr.is_unique\n"
   ]
  },
  {
   "cell_type": "code",
   "execution_count": 43,
   "id": "24b870a1",
   "metadata": {},
   "outputs": [
    {
     "data": {
      "text/plain": [
       "False"
      ]
     },
     "execution_count": 43,
     "metadata": {},
     "output_type": "execute_result"
    }
   ],
   "source": [
    "sr = pd.Series([1, 6, 3, 9])\n",
    "sr.is_monotonic_increasing\n"
   ]
  },
  {
   "cell_type": "code",
   "execution_count": 44,
   "id": "4b270d3e",
   "metadata": {},
   "outputs": [
    {
     "data": {
      "text/plain": [
       "0    1\n",
       "1    6\n",
       "2    3\n",
       "3    9\n",
       "dtype: int64"
      ]
     },
     "execution_count": 44,
     "metadata": {},
     "output_type": "execute_result"
    }
   ],
   "source": [
    "sr\n"
   ]
  },
  {
   "cell_type": "code",
   "execution_count": 45,
   "id": "c1c52ca6",
   "metadata": {},
   "outputs": [
    {
     "data": {
      "text/plain": [
       "(0    1\n",
       " 1    6\n",
       " dtype: int64,\n",
       " 2    3\n",
       " 3    9\n",
       " dtype: int64)"
      ]
     },
     "execution_count": 45,
     "metadata": {},
     "output_type": "execute_result"
    }
   ],
   "source": [
    "sr.head(2), sr.tail(2)\n"
   ]
  },
  {
   "cell_type": "code",
   "execution_count": 46,
   "id": "d30bf74b",
   "metadata": {},
   "outputs": [
    {
     "data": {
      "text/plain": [
       "19"
      ]
     },
     "execution_count": 46,
     "metadata": {},
     "output_type": "execute_result"
    }
   ],
   "source": [
    "sr.sum(skipna=False, numeric_only=True)\n"
   ]
  },
  {
   "cell_type": "markdown",
   "id": "ad218733-77d3-44b8-a18f-629018129ac1",
   "metadata": {},
   "source": [
    "(5) 연산 수행 => Series 객체 - 연산자 - 숫자"
   ]
  },
  {
   "cell_type": "code",
   "execution_count": 55,
   "id": "6f45218e-edaa-4806-a763-f3b025f97bd4",
   "metadata": {},
   "outputs": [
    {
     "data": {
      "text/plain": [
       "0    10.0\n",
       "1    12.0\n",
       "2     NaN\n",
       "3    14.0\n",
       "4    16.0\n",
       "dtype: float64"
      ]
     },
     "execution_count": 55,
     "metadata": {},
     "output_type": "execute_result"
    }
   ],
   "source": [
    "sr + 5\n"
   ]
  },
  {
   "cell_type": "code",
   "execution_count": 56,
   "id": "5f83f8ac-066f-446c-8230-f567665cd0ff",
   "metadata": {},
   "outputs": [
    {
     "data": {
      "text/plain": [
       "0    0.0\n",
       "1    2.0\n",
       "2    NaN\n",
       "3    4.0\n",
       "4    6.0\n",
       "dtype: float64"
      ]
     },
     "execution_count": 56,
     "metadata": {},
     "output_type": "execute_result"
    }
   ],
   "source": [
    "sr - 5\n"
   ]
  },
  {
   "cell_type": "code",
   "execution_count": 57,
   "id": "e181aa1d-a448-4d83-b09a-b30949fc9756",
   "metadata": {},
   "outputs": [
    {
     "data": {
      "text/plain": [
       "0    25.0\n",
       "1    35.0\n",
       "2     NaN\n",
       "3    45.0\n",
       "4    55.0\n",
       "dtype: float64"
      ]
     },
     "execution_count": 57,
     "metadata": {},
     "output_type": "execute_result"
    }
   ],
   "source": [
    "sr * 5\n"
   ]
  },
  {
   "cell_type": "code",
   "execution_count": 58,
   "id": "aaac8a68-9542-4e0d-bad2-90447baf2cb3",
   "metadata": {},
   "outputs": [
    {
     "data": {
      "text/plain": [
       "0    1.0\n",
       "1    1.4\n",
       "2    NaN\n",
       "3    1.8\n",
       "4    2.2\n",
       "dtype: float64"
      ]
     },
     "execution_count": 58,
     "metadata": {},
     "output_type": "execute_result"
    }
   ],
   "source": [
    "sr / 5\n"
   ]
  },
  {
   "cell_type": "code",
   "execution_count": 59,
   "id": "de7675dd-9796-4537-a217-34bb329b946b",
   "metadata": {},
   "outputs": [
    {
     "data": {
      "text/plain": [
       "0    1.0\n",
       "1    1.0\n",
       "2    NaN\n",
       "3    1.0\n",
       "4    2.0\n",
       "dtype: float64"
      ]
     },
     "execution_count": 59,
     "metadata": {},
     "output_type": "execute_result"
    }
   ],
   "source": [
    "sr // 5\n"
   ]
  },
  {
   "cell_type": "code",
   "execution_count": 60,
   "id": "0737f38d-ff9f-41f5-805f-2b5811af6097",
   "metadata": {},
   "outputs": [
    {
     "data": {
      "text/plain": [
       "0    0.0\n",
       "1    2.0\n",
       "2    NaN\n",
       "3    4.0\n",
       "4    1.0\n",
       "dtype: float64"
      ]
     },
     "execution_count": 60,
     "metadata": {},
     "output_type": "execute_result"
    }
   ],
   "source": [
    "sr % 5\n"
   ]
  },
  {
   "cell_type": "code",
   "execution_count": 61,
   "id": "c13063bd-b52a-43f2-99ad-084b5568c869",
   "metadata": {},
   "outputs": [
    {
     "data": {
      "text/plain": [
       "0    False\n",
       "1     True\n",
       "2    False\n",
       "3     True\n",
       "4     True\n",
       "dtype: bool"
      ]
     },
     "execution_count": 61,
     "metadata": {},
     "output_type": "execute_result"
    }
   ],
   "source": [
    "sr > 5\n"
   ]
  },
  {
   "cell_type": "code",
   "execution_count": 62,
   "id": "8c7aaca2-2cc8-4fad-a4e5-681acf4fa98d",
   "metadata": {},
   "outputs": [
    {
     "data": {
      "text/plain": [
       "0     True\n",
       "1     True\n",
       "2    False\n",
       "3     True\n",
       "4    False\n",
       "dtype: bool"
      ]
     },
     "execution_count": 62,
     "metadata": {},
     "output_type": "execute_result"
    }
   ],
   "source": [
    "sr < 10\n"
   ]
  },
  {
   "cell_type": "markdown",
   "id": "35a133fc-d53c-4629-8757-d48b385e8f47",
   "metadata": {},
   "source": [
    "- 논리연산 => & : and 연산 | : or 연산 ~ : not 연산"
   ]
  },
  {
   "cell_type": "code",
   "execution_count": 63,
   "id": "88751e34-8394-4242-a01d-8ccc3e84bc7d",
   "metadata": {},
   "outputs": [
    {
     "data": {
      "text/plain": [
       "0    False\n",
       "1     True\n",
       "2    False\n",
       "3     True\n",
       "4    False\n",
       "dtype: bool"
      ]
     },
     "execution_count": 63,
     "metadata": {},
     "output_type": "execute_result"
    }
   ],
   "source": [
    "(sr > 5) & (sr < 10)\n"
   ]
  },
  {
   "cell_type": "code",
   "execution_count": 64,
   "id": "63abd8eb",
   "metadata": {},
   "outputs": [
    {
     "data": {
      "text/plain": [
       "0     True\n",
       "1     True\n",
       "2    False\n",
       "3     True\n",
       "4     True\n",
       "dtype: bool"
      ]
     },
     "execution_count": 64,
     "metadata": {},
     "output_type": "execute_result"
    }
   ],
   "source": [
    "(sr > 5) | (sr < 10)\n"
   ]
  },
  {
   "cell_type": "code",
   "execution_count": 65,
   "id": "dbb17b45-21bd-4bf0-bbb7-59544ffc99ca",
   "metadata": {},
   "outputs": [
    {
     "name": "stdout",
     "output_type": "stream",
     "text": [
      "0     True\n",
      "1    False\n",
      "2     True\n",
      "3    False\n",
      "4    False\n",
      "dtype: bool\n",
      "\n",
      "0    False\n",
      "1     True\n",
      "2    False\n",
      "3     True\n",
      "4     True\n",
      "dtype: bool\n"
     ]
    }
   ],
   "source": [
    "print(~(sr > 5), sr > 5, sep='\\n\\n')\n"
   ]
  },
  {
   "cell_type": "markdown",
   "id": "03094fb2",
   "metadata": {},
   "source": [
    "(5) 연산 후생 => Series 객체 + Series 객체"
   ]
  },
  {
   "cell_type": "code",
   "execution_count": 21,
   "id": "4b4311b9",
   "metadata": {},
   "outputs": [],
   "source": [
    "data2 = [2, 4, 6, 8, 9]\n",
    "sr2 = pd.Series(data2)\n"
   ]
  },
  {
   "cell_type": "code",
   "execution_count": 22,
   "id": "f259ed21",
   "metadata": {},
   "outputs": [
    {
     "name": "stdout",
     "output_type": "stream",
     "text": [
      "0     7.0\n",
      "1    11.0\n",
      "2     NaN\n",
      "3    17.0\n",
      "4    20.0\n",
      "dtype: float64\n",
      "\n",
      "0    3.0\n",
      "1    3.0\n",
      "2    NaN\n",
      "3    1.0\n",
      "4    2.0\n",
      "dtype: float64\n",
      "\n",
      "0    10.0\n",
      "1    28.0\n",
      "2     NaN\n",
      "3    72.0\n",
      "4    99.0\n",
      "dtype: float64\n",
      "\n",
      "0    2.500000\n",
      "1    1.750000\n",
      "2         NaN\n",
      "3    1.125000\n",
      "4    1.222222\n",
      "dtype: float64\n",
      "\n",
      "0    1.0\n",
      "1    3.0\n",
      "2    NaN\n",
      "3    1.0\n",
      "4    2.0\n",
      "dtype: float64\n"
     ]
    }
   ],
   "source": [
    "print(sr+sr2, sr-sr2, sr*sr2, sr/sr2, sr%sr2, sep='\\n\\n')\n"
   ]
  },
  {
   "cell_type": "code",
   "execution_count": 23,
   "id": "5e376dae",
   "metadata": {},
   "outputs": [
    {
     "name": "stdout",
     "output_type": "stream",
     "text": [
      "0     True\n",
      "1     True\n",
      "2    False\n",
      "3     True\n",
      "4     True\n",
      "dtype: bool\n",
      "\n",
      "0    False\n",
      "1    False\n",
      "2    False\n",
      "3    False\n",
      "4    False\n",
      "dtype: bool\n"
     ]
    }
   ],
   "source": [
    "print(sr>sr2, sr<sr2, sep='\\n\\n')\n"
   ]
  },
  {
   "cell_type": "code",
   "execution_count": 24,
   "id": "b3e884a5",
   "metadata": {},
   "outputs": [
    {
     "data": {
      "text/plain": [
       "2    2\n",
       "3    4\n",
       "4    6\n",
       "5    8\n",
       "6    9\n",
       "dtype: int64"
      ]
     },
     "execution_count": 24,
     "metadata": {},
     "output_type": "execute_result"
    }
   ],
   "source": [
    "sr2.index = [2, 3, 4, 5, 6]\n",
    "sr2\n"
   ]
  },
  {
   "cell_type": "code",
   "execution_count": 25,
   "id": "18a5b16e",
   "metadata": {},
   "outputs": [
    {
     "name": "stdout",
     "output_type": "stream",
     "text": [
      "0     NaN\n",
      "1     NaN\n",
      "2     NaN\n",
      "3    13.0\n",
      "4    17.0\n",
      "5     NaN\n",
      "6     NaN\n",
      "dtype: float64\n",
      "\n",
      "0    NaN\n",
      "1    NaN\n",
      "2    NaN\n",
      "3    5.0\n",
      "4    5.0\n",
      "5    NaN\n",
      "6    NaN\n",
      "dtype: float64\n",
      "\n",
      "0     NaN\n",
      "1     NaN\n",
      "2     NaN\n",
      "3    36.0\n",
      "4    66.0\n",
      "5     NaN\n",
      "6     NaN\n",
      "dtype: float64\n",
      "\n",
      "0         NaN\n",
      "1         NaN\n",
      "2         NaN\n",
      "3    2.250000\n",
      "4    1.833333\n",
      "5         NaN\n",
      "6         NaN\n",
      "dtype: float64\n",
      "\n",
      "0    NaN\n",
      "1    NaN\n",
      "2    NaN\n",
      "3    1.0\n",
      "4    5.0\n",
      "5    NaN\n",
      "6    NaN\n",
      "dtype: float64\n"
     ]
    }
   ],
   "source": [
    "print(sr+sr2, sr-sr2, sr*sr2, sr/sr2, sr%sr2, sep='\\n\\n')\n"
   ]
  },
  {
   "cell_type": "code",
   "execution_count": 26,
   "id": "8240b7d7",
   "metadata": {},
   "outputs": [
    {
     "name": "stdout",
     "output_type": "stream",
     "text": [
      "   index  0\n",
      "0      2  2\n",
      "1      3  4\n",
      "2      4  6\n",
      "3      5  8\n",
      "4      6  9\n",
      "\n",
      "0    2\n",
      "1    4\n",
      "2    6\n",
      "3    8\n",
      "4    9\n",
      "dtype: int64\n"
     ]
    }
   ],
   "source": [
    "print(sr2.reset_index(), sr2.reset_index(drop=True), sep='\\n\\n')\n"
   ]
  },
  {
   "cell_type": "markdown",
   "id": "37a8c227",
   "metadata": {},
   "source": [
    "(5) Series 연산수행 => 전용 메서드"
   ]
  },
  {
   "cell_type": "code",
   "execution_count": 27,
   "id": "d0be131c",
   "metadata": {},
   "outputs": [
    {
     "name": "stdout",
     "output_type": "stream",
     "text": [
      "0    10.0\n",
      "1    12.0\n",
      "2     NaN\n",
      "3    14.0\n",
      "4    16.0\n",
      "dtype: float64\n",
      "\n",
      "0    10.0\n",
      "1    12.0\n",
      "2     5.0\n",
      "3    14.0\n",
      "4    16.0\n",
      "dtype: float64\n"
     ]
    }
   ],
   "source": [
    "print(sr.add(5), sr.add(5, fill_value=0), sep='\\n\\n')\n"
   ]
  },
  {
   "cell_type": "code",
   "execution_count": 67,
   "id": "5e274f77",
   "metadata": {},
   "outputs": [
    {
     "name": "stdout",
     "output_type": "stream",
     "text": [
      "0    0.0\n",
      "1    2.0\n",
      "2    NaN\n",
      "3    4.0\n",
      "4    6.0\n",
      "dtype: float64\n",
      "\n",
      "0    0.0\n",
      "1    2.0\n",
      "2   -5.0\n",
      "3    4.0\n",
      "4    6.0\n",
      "dtype: float64\n"
     ]
    }
   ],
   "source": [
    "print(sr.sub(5), sr.sub(5, fill_value=0), sep='\\n\\n')\n"
   ]
  },
  {
   "cell_type": "code",
   "execution_count": 28,
   "id": "fe970c71",
   "metadata": {},
   "outputs": [
    {
     "name": "stdout",
     "output_type": "stream",
     "text": [
      "0    NaN\n",
      "1    NaN\n",
      "2    NaN\n",
      "3    5.0\n",
      "4    5.0\n",
      "5    NaN\n",
      "6    NaN\n",
      "dtype: float64\n",
      "\n",
      "0    5.0\n",
      "1    7.0\n",
      "2   -2.0\n",
      "3    5.0\n",
      "4    5.0\n",
      "5   -8.0\n",
      "6   -9.0\n",
      "dtype: float64\n"
     ]
    }
   ],
   "source": [
    "print(sr.sub(sr2), sr.sub(sr2, fill_value=0), sep='\\n\\n')\n"
   ]
  },
  {
   "cell_type": "code",
   "execution_count": 29,
   "id": "1b396635",
   "metadata": {},
   "outputs": [],
   "source": [
    "addSR = sr.add(sr2, fill_value=0)\n",
    "subSR = sr.sub(sr2, fill_value=0)\n",
    "mulSR = sr.mul(sr2, fill_value=0)\n",
    "divSR = sr.div(sr2, fill_value=0)\n"
   ]
  },
  {
   "cell_type": "code",
   "execution_count": 30,
   "id": "c955ab19",
   "metadata": {},
   "outputs": [
    {
     "data": {
      "text/plain": [
       "(0     5.0\n",
       " 1     7.0\n",
       " 2     2.0\n",
       " 3    13.0\n",
       " 4    17.0\n",
       " 5     8.0\n",
       " 6     9.0\n",
       " dtype: float64,\n",
       " 0    5.0\n",
       " 1    7.0\n",
       " 2   -2.0\n",
       " 3    5.0\n",
       " 4    5.0\n",
       " 5   -8.0\n",
       " 6   -9.0\n",
       " dtype: float64,\n",
       " 0     0.0\n",
       " 1     0.0\n",
       " 2     0.0\n",
       " 3    36.0\n",
       " 4    66.0\n",
       " 5     0.0\n",
       " 6     0.0\n",
       " dtype: float64,\n",
       " 0         inf\n",
       " 1         inf\n",
       " 2    0.000000\n",
       " 3    2.250000\n",
       " 4    1.833333\n",
       " 5    0.000000\n",
       " 6    0.000000\n",
       " dtype: float64)"
      ]
     },
     "execution_count": 30,
     "metadata": {},
     "output_type": "execute_result"
    }
   ],
   "source": [
    "addSR, subSR, mulSR, divSR\n"
   ]
  },
  {
   "cell_type": "code",
   "execution_count": 31,
   "metadata": {},
   "outputs": [],
   "source": [
    "df = pd.DataFrame([addSR, subSR, mulSR, divSR], index=['add', 'sub', 'mul' ,'div'])\n"
   ]
  },
  {
   "cell_type": "code",
   "execution_count": 32,
   "id": "5bcff01b",
   "metadata": {},
   "outputs": [
    {
     "data": {
      "text/html": [
       "<div>\n",
       "<style scoped>\n",
       "    .dataframe tbody tr th:only-of-type {\n",
       "        vertical-align: middle;\n",
       "    }\n",
       "\n",
       "    .dataframe tbody tr th {\n",
       "        vertical-align: top;\n",
       "    }\n",
       "\n",
       "    .dataframe thead th {\n",
       "        text-align: right;\n",
       "    }\n",
       "</style>\n",
       "<table border=\"1\" class=\"dataframe\">\n",
       "  <thead>\n",
       "    <tr style=\"text-align: right;\">\n",
       "      <th></th>\n",
       "      <th>0</th>\n",
       "      <th>1</th>\n",
       "      <th>2</th>\n",
       "      <th>3</th>\n",
       "      <th>4</th>\n",
       "      <th>5</th>\n",
       "      <th>6</th>\n",
       "    </tr>\n",
       "  </thead>\n",
       "  <tbody>\n",
       "    <tr>\n",
       "      <th>add</th>\n",
       "      <td>5.0</td>\n",
       "      <td>7.0</td>\n",
       "      <td>2.0</td>\n",
       "      <td>13.00</td>\n",
       "      <td>17.000000</td>\n",
       "      <td>8.0</td>\n",
       "      <td>9.0</td>\n",
       "    </tr>\n",
       "    <tr>\n",
       "      <th>sub</th>\n",
       "      <td>5.0</td>\n",
       "      <td>7.0</td>\n",
       "      <td>-2.0</td>\n",
       "      <td>5.00</td>\n",
       "      <td>5.000000</td>\n",
       "      <td>-8.0</td>\n",
       "      <td>-9.0</td>\n",
       "    </tr>\n",
       "    <tr>\n",
       "      <th>mul</th>\n",
       "      <td>0.0</td>\n",
       "      <td>0.0</td>\n",
       "      <td>0.0</td>\n",
       "      <td>36.00</td>\n",
       "      <td>66.000000</td>\n",
       "      <td>0.0</td>\n",
       "      <td>0.0</td>\n",
       "    </tr>\n",
       "    <tr>\n",
       "      <th>div</th>\n",
       "      <td>inf</td>\n",
       "      <td>inf</td>\n",
       "      <td>0.0</td>\n",
       "      <td>2.25</td>\n",
       "      <td>1.833333</td>\n",
       "      <td>0.0</td>\n",
       "      <td>0.0</td>\n",
       "    </tr>\n",
       "  </tbody>\n",
       "</table>\n",
       "</div>"
      ],
      "text/plain": [
       "       0    1    2      3          4    5    6\n",
       "add  5.0  7.0  2.0  13.00  17.000000  8.0  9.0\n",
       "sub  5.0  7.0 -2.0   5.00   5.000000 -8.0 -9.0\n",
       "mul  0.0  0.0  0.0  36.00  66.000000  0.0  0.0\n",
       "div  inf  inf  0.0   2.25   1.833333  0.0  0.0"
      ]
     },
     "execution_count": 32,
     "metadata": {},
     "output_type": "execute_result"
    }
   ],
   "source": [
    "df\n"
   ]
  },
  {
   "cell_type": "code",
   "execution_count": 33,
   "metadata": {},
   "outputs": [
    {
     "name": "stdout",
     "output_type": "stream",
     "text": [
      "        0     1    2      3          4     5     6\n",
      "add  10.0  12.0  7.0  18.00  22.000000  13.0  14.0\n",
      "sub  10.0  12.0  3.0  10.00  10.000000  -3.0  -4.0\n",
      "mul   5.0   5.0  5.0  41.00  71.000000   5.0   5.0\n",
      "div   inf   inf  5.0   7.25   6.833333   5.0   5.0\n",
      "\n",
      "       0    1    2      3          4     5     6\n",
      "add  0.0  2.0 -3.0   8.00  12.000000   3.0   4.0\n",
      "sub  0.0  2.0 -7.0   0.00   0.000000 -13.0 -14.0\n",
      "mul -5.0 -5.0 -5.0  31.00  61.000000  -5.0  -5.0\n",
      "div  inf  inf -5.0  -2.75  -3.166667  -5.0  -5.0\n"
     ]
    }
   ],
   "source": [
    "print(df + 5, df - 5, sep='\\n\\n')\n"
   ]
  },
  {
   "cell_type": "code",
   "execution_count": 34,
   "id": "50e9d632",
   "metadata": {},
   "outputs": [
    {
     "name": "stdout",
     "output_type": "stream",
     "text": [
      "         0      1      2      3      4      5      6\n",
      "add  False   True  False   True   True   True   True\n",
      "sub  False   True  False  False  False  False  False\n",
      "mul  False  False  False   True   True  False  False\n",
      "div   True   True  False  False  False  False  False\n",
      "\n",
      "         0      1     2      3      4      5      6\n",
      "add  False  False  True  False  False  False  False\n",
      "sub  False  False  True  False  False   True   True\n",
      "mul   True   True  True  False  False   True   True\n",
      "div  False  False  True   True   True   True   True\n"
     ]
    }
   ],
   "source": [
    "print(df > 5, df < 5, sep='\\n\\n')\n"
   ]
  },
  {
   "cell_type": "markdown",
   "id": "e834086d",
   "metadata": {},
   "source": [
    "- DataFrame과 DataFrame 연산 수행 => 동일 위치의 원소끼리 연산 수행"
   ]
  },
  {
   "cell_type": "code",
   "execution_count": 35,
   "id": "86623878",
   "metadata": {},
   "outputs": [
    {
     "data": {
      "text/html": [
       "<div>\n",
       "<style scoped>\n",
       "    .dataframe tbody tr th:only-of-type {\n",
       "        vertical-align: middle;\n",
       "    }\n",
       "\n",
       "    .dataframe tbody tr th {\n",
       "        vertical-align: top;\n",
       "    }\n",
       "\n",
       "    .dataframe thead th {\n",
       "        text-align: right;\n",
       "    }\n",
       "</style>\n",
       "<table border=\"1\" class=\"dataframe\">\n",
       "  <thead>\n",
       "    <tr style=\"text-align: right;\">\n",
       "      <th></th>\n",
       "      <th>0</th>\n",
       "      <th>1</th>\n",
       "      <th>2</th>\n",
       "      <th>3</th>\n",
       "      <th>4</th>\n",
       "      <th>5</th>\n",
       "      <th>6</th>\n",
       "    </tr>\n",
       "  </thead>\n",
       "  <tbody>\n",
       "    <tr>\n",
       "      <th>add</th>\n",
       "      <td>50.0</td>\n",
       "      <td>70.0</td>\n",
       "      <td>20.0</td>\n",
       "      <td>130.0</td>\n",
       "      <td>170.000000</td>\n",
       "      <td>80.0</td>\n",
       "      <td>90.0</td>\n",
       "    </tr>\n",
       "    <tr>\n",
       "      <th>sub</th>\n",
       "      <td>50.0</td>\n",
       "      <td>70.0</td>\n",
       "      <td>-20.0</td>\n",
       "      <td>50.0</td>\n",
       "      <td>50.000000</td>\n",
       "      <td>-80.0</td>\n",
       "      <td>-90.0</td>\n",
       "    </tr>\n",
       "    <tr>\n",
       "      <th>mul</th>\n",
       "      <td>0.0</td>\n",
       "      <td>0.0</td>\n",
       "      <td>0.0</td>\n",
       "      <td>360.0</td>\n",
       "      <td>660.000000</td>\n",
       "      <td>0.0</td>\n",
       "      <td>0.0</td>\n",
       "    </tr>\n",
       "    <tr>\n",
       "      <th>div</th>\n",
       "      <td>inf</td>\n",
       "      <td>inf</td>\n",
       "      <td>0.0</td>\n",
       "      <td>22.5</td>\n",
       "      <td>18.333333</td>\n",
       "      <td>0.0</td>\n",
       "      <td>0.0</td>\n",
       "    </tr>\n",
       "  </tbody>\n",
       "</table>\n",
       "</div>"
      ],
      "text/plain": [
       "        0     1     2      3           4     5     6\n",
       "add  50.0  70.0  20.0  130.0  170.000000  80.0  90.0\n",
       "sub  50.0  70.0 -20.0   50.0   50.000000 -80.0 -90.0\n",
       "mul   0.0   0.0   0.0  360.0  660.000000   0.0   0.0\n",
       "div   inf   inf   0.0   22.5   18.333333   0.0   0.0"
      ]
     },
     "execution_count": 35,
     "metadata": {},
     "output_type": "execute_result"
    }
   ],
   "source": [
    "df2 = df*10\n",
    "df2\n"
   ]
  },
  {
   "cell_type": "code",
   "execution_count": 36,
   "id": "043c931b",
   "metadata": {},
   "outputs": [
    {
     "name": "stdout",
     "output_type": "stream",
     "text": [
      "        0     1     2       3           4     5     6\n",
      "add  55.0  77.0  22.0  143.00  187.000000  88.0  99.0\n",
      "sub  55.0  77.0 -22.0   55.00   55.000000 -88.0 -99.0\n",
      "mul   0.0   0.0   0.0  396.00  726.000000   0.0   0.0\n",
      "div   inf   inf   0.0   24.75   20.166667   0.0   0.0\n",
      "\n",
      "         0      1     2          3             4      5      6\n",
      "add  250.0  490.0  40.0   1690.000   2890.000000  640.0  810.0\n",
      "sub  250.0  490.0  40.0    250.000    250.000000  640.0  810.0\n",
      "mul    0.0    0.0   0.0  12960.000  43560.000000    0.0    0.0\n",
      "div    inf    inf   0.0     50.625     33.611111    0.0    0.0\n"
     ]
    }
   ],
   "source": [
    "print(df + df2, df * df2, sep='\\n\\n')\n"
   ]
  },
  {
   "cell_type": "code",
   "execution_count": 68,
   "id": "925232c7",
   "metadata": {},
   "outputs": [
    {
     "data": {
      "text/plain": [
       "(Index(['add', 'sub', 'mul', 'div'], dtype='object'),\n",
       " Index([0, 1, 2, 3, 4, 5, 6], dtype='int64'))"
      ]
     },
     "execution_count": 68,
     "metadata": {},
     "output_type": "execute_result"
    }
   ],
   "source": [
    "df.index, df.columns\n"
   ]
  },
  {
   "cell_type": "code",
   "execution_count": 69,
   "id": "f7cff652",
   "metadata": {},
   "outputs": [
    {
     "data": {
      "text/plain": [
       "(Index(['add', 'minus', 'mul', '/'], dtype='object'),\n",
       " Index([0, 1, 2, 3, 4, 5, 6], dtype='int64'))"
      ]
     },
     "execution_count": 69,
     "metadata": {},
     "output_type": "execute_result"
    }
   ],
   "source": [
    "df2.index, df2.columns\n"
   ]
  },
  {
   "cell_type": "code",
   "execution_count": 37,
   "metadata": {},
   "outputs": [],
   "source": [
    "df2.index=['add', 'minus', 'mul', '/']\n"
   ]
  },
  {
   "cell_type": "code",
   "execution_count": 38,
   "id": "5f23b1a1",
   "metadata": {},
   "outputs": [
    {
     "name": "stdout",
     "output_type": "stream",
     "text": [
      "          0     1     2      3      4     5     6\n",
      "/       NaN   NaN   NaN    NaN    NaN   NaN   NaN\n",
      "add    55.0  77.0  22.0  143.0  187.0  88.0  99.0\n",
      "div     NaN   NaN   NaN    NaN    NaN   NaN   NaN\n",
      "minus   NaN   NaN   NaN    NaN    NaN   NaN   NaN\n",
      "mul     0.0   0.0   0.0  396.0  726.0   0.0   0.0\n",
      "sub     NaN   NaN   NaN    NaN    NaN   NaN   NaN\n",
      "\n",
      "           0      1     2        3        4      5      6\n",
      "/        NaN    NaN   NaN      NaN      NaN    NaN    NaN\n",
      "add    250.0  490.0  40.0   1690.0   2890.0  640.0  810.0\n",
      "div      NaN    NaN   NaN      NaN      NaN    NaN    NaN\n",
      "minus    NaN    NaN   NaN      NaN      NaN    NaN    NaN\n",
      "mul      0.0    0.0   0.0  12960.0  43560.0    0.0    0.0\n",
      "sub      NaN    NaN   NaN      NaN      NaN    NaN    NaN\n"
     ]
    }
   ],
   "source": [
    "print(df + df2, df * df2, sep='\\n\\n')\n"
   ]
  },
  {
   "cell_type": "markdown",
   "id": "6970921c",
   "metadata": {},
   "source": [
    "- 연산 수행 메서드 활용 => 결측치 즉 NaN 빈칸에 대한 처리를 수행 가능\n",
    "    * fill_value 파라미터에 값 설정"
   ]
  },
  {
   "cell_type": "code",
   "execution_count": 70,
   "id": "d26d7815",
   "metadata": {},
   "outputs": [
    {
     "data": {
      "text/html": [
       "<div>\n",
       "<style scoped>\n",
       "    .dataframe tbody tr th:only-of-type {\n",
       "        vertical-align: middle;\n",
       "    }\n",
       "\n",
       "    .dataframe tbody tr th {\n",
       "        vertical-align: top;\n",
       "    }\n",
       "\n",
       "    .dataframe thead th {\n",
       "        text-align: right;\n",
       "    }\n",
       "</style>\n",
       "<table border=\"1\" class=\"dataframe\">\n",
       "  <thead>\n",
       "    <tr style=\"text-align: right;\">\n",
       "      <th></th>\n",
       "      <th>0</th>\n",
       "      <th>1</th>\n",
       "      <th>2</th>\n",
       "      <th>3</th>\n",
       "      <th>4</th>\n",
       "      <th>5</th>\n",
       "      <th>6</th>\n",
       "    </tr>\n",
       "  </thead>\n",
       "  <tbody>\n",
       "    <tr>\n",
       "      <th>/</th>\n",
       "      <td>NaN</td>\n",
       "      <td>NaN</td>\n",
       "      <td>NaN</td>\n",
       "      <td>NaN</td>\n",
       "      <td>NaN</td>\n",
       "      <td>NaN</td>\n",
       "      <td>NaN</td>\n",
       "    </tr>\n",
       "    <tr>\n",
       "      <th>add</th>\n",
       "      <td>55.0</td>\n",
       "      <td>77.0</td>\n",
       "      <td>22.0</td>\n",
       "      <td>143.0</td>\n",
       "      <td>187.0</td>\n",
       "      <td>88.0</td>\n",
       "      <td>99.0</td>\n",
       "    </tr>\n",
       "    <tr>\n",
       "      <th>div</th>\n",
       "      <td>NaN</td>\n",
       "      <td>NaN</td>\n",
       "      <td>NaN</td>\n",
       "      <td>NaN</td>\n",
       "      <td>NaN</td>\n",
       "      <td>NaN</td>\n",
       "      <td>NaN</td>\n",
       "    </tr>\n",
       "    <tr>\n",
       "      <th>minus</th>\n",
       "      <td>NaN</td>\n",
       "      <td>NaN</td>\n",
       "      <td>NaN</td>\n",
       "      <td>NaN</td>\n",
       "      <td>NaN</td>\n",
       "      <td>NaN</td>\n",
       "      <td>NaN</td>\n",
       "    </tr>\n",
       "    <tr>\n",
       "      <th>mul</th>\n",
       "      <td>0.0</td>\n",
       "      <td>0.0</td>\n",
       "      <td>0.0</td>\n",
       "      <td>396.0</td>\n",
       "      <td>726.0</td>\n",
       "      <td>0.0</td>\n",
       "      <td>0.0</td>\n",
       "    </tr>\n",
       "    <tr>\n",
       "      <th>sub</th>\n",
       "      <td>NaN</td>\n",
       "      <td>NaN</td>\n",
       "      <td>NaN</td>\n",
       "      <td>NaN</td>\n",
       "      <td>NaN</td>\n",
       "      <td>NaN</td>\n",
       "      <td>NaN</td>\n",
       "    </tr>\n",
       "  </tbody>\n",
       "</table>\n",
       "</div>"
      ],
      "text/plain": [
       "          0     1     2      3      4     5     6\n",
       "/       NaN   NaN   NaN    NaN    NaN   NaN   NaN\n",
       "add    55.0  77.0  22.0  143.0  187.0  88.0  99.0\n",
       "div     NaN   NaN   NaN    NaN    NaN   NaN   NaN\n",
       "minus   NaN   NaN   NaN    NaN    NaN   NaN   NaN\n",
       "mul     0.0   0.0   0.0  396.0  726.0   0.0   0.0\n",
       "sub     NaN   NaN   NaN    NaN    NaN   NaN   NaN"
      ]
     },
     "execution_count": 70,
     "metadata": {},
     "output_type": "execute_result"
    }
   ],
   "source": [
    "df.add(df2)\n"
   ]
  },
  {
   "cell_type": "code",
   "execution_count": 71,
   "id": "81c9fc44",
   "metadata": {},
   "outputs": [
    {
     "data": {
      "text/html": [
       "<div>\n",
       "<style scoped>\n",
       "    .dataframe tbody tr th:only-of-type {\n",
       "        vertical-align: middle;\n",
       "    }\n",
       "\n",
       "    .dataframe tbody tr th {\n",
       "        vertical-align: top;\n",
       "    }\n",
       "\n",
       "    .dataframe thead th {\n",
       "        text-align: right;\n",
       "    }\n",
       "</style>\n",
       "<table border=\"1\" class=\"dataframe\">\n",
       "  <thead>\n",
       "    <tr style=\"text-align: right;\">\n",
       "      <th></th>\n",
       "      <th>0</th>\n",
       "      <th>1</th>\n",
       "      <th>2</th>\n",
       "      <th>3</th>\n",
       "      <th>4</th>\n",
       "      <th>5</th>\n",
       "      <th>6</th>\n",
       "    </tr>\n",
       "  </thead>\n",
       "  <tbody>\n",
       "    <tr>\n",
       "      <th>/</th>\n",
       "      <td>inf</td>\n",
       "      <td>inf</td>\n",
       "      <td>0.0</td>\n",
       "      <td>22.50</td>\n",
       "      <td>18.333333</td>\n",
       "      <td>0.0</td>\n",
       "      <td>0.0</td>\n",
       "    </tr>\n",
       "    <tr>\n",
       "      <th>add</th>\n",
       "      <td>55.0</td>\n",
       "      <td>77.0</td>\n",
       "      <td>22.0</td>\n",
       "      <td>143.00</td>\n",
       "      <td>187.000000</td>\n",
       "      <td>88.0</td>\n",
       "      <td>99.0</td>\n",
       "    </tr>\n",
       "    <tr>\n",
       "      <th>div</th>\n",
       "      <td>inf</td>\n",
       "      <td>inf</td>\n",
       "      <td>0.0</td>\n",
       "      <td>2.25</td>\n",
       "      <td>1.833333</td>\n",
       "      <td>0.0</td>\n",
       "      <td>0.0</td>\n",
       "    </tr>\n",
       "    <tr>\n",
       "      <th>minus</th>\n",
       "      <td>50.0</td>\n",
       "      <td>70.0</td>\n",
       "      <td>-20.0</td>\n",
       "      <td>50.00</td>\n",
       "      <td>50.000000</td>\n",
       "      <td>-80.0</td>\n",
       "      <td>-90.0</td>\n",
       "    </tr>\n",
       "    <tr>\n",
       "      <th>mul</th>\n",
       "      <td>0.0</td>\n",
       "      <td>0.0</td>\n",
       "      <td>0.0</td>\n",
       "      <td>396.00</td>\n",
       "      <td>726.000000</td>\n",
       "      <td>0.0</td>\n",
       "      <td>0.0</td>\n",
       "    </tr>\n",
       "    <tr>\n",
       "      <th>sub</th>\n",
       "      <td>5.0</td>\n",
       "      <td>7.0</td>\n",
       "      <td>-2.0</td>\n",
       "      <td>5.00</td>\n",
       "      <td>5.000000</td>\n",
       "      <td>-8.0</td>\n",
       "      <td>-9.0</td>\n",
       "    </tr>\n",
       "  </tbody>\n",
       "</table>\n",
       "</div>"
      ],
      "text/plain": [
       "          0     1     2       3           4     5     6\n",
       "/       inf   inf   0.0   22.50   18.333333   0.0   0.0\n",
       "add    55.0  77.0  22.0  143.00  187.000000  88.0  99.0\n",
       "div     inf   inf   0.0    2.25    1.833333   0.0   0.0\n",
       "minus  50.0  70.0 -20.0   50.00   50.000000 -80.0 -90.0\n",
       "mul     0.0   0.0   0.0  396.00  726.000000   0.0   0.0\n",
       "sub     5.0   7.0  -2.0    5.00    5.000000  -8.0  -9.0"
      ]
     },
     "execution_count": 71,
     "metadata": {},
     "output_type": "execute_result"
    }
   ],
   "source": [
    "df.add(df2, fill_value=0)\n"
   ]
  },
  {
   "cell_type": "code",
   "execution_count": null,
   "id": "5ce196a1",
   "metadata": {},
   "outputs": [],
   "source": []
  }
 ],
 "metadata": {
  "kernelspec": {
   "display_name": "Python 3 (ipykernel)",
   "language": "python",
   "name": "python3"
  },
  "language_info": {
   "codemirror_mode": {
    "name": "ipython",
    "version": 3
   },
   "file_extension": ".py",
   "mimetype": "text/x-python",
   "name": "python",
   "nbconvert_exporter": "python",
   "pygments_lexer": "ipython3",
   "version": "3.8.18"
  }
 },
 "nbformat": 4,
 "nbformat_minor": 5
}
