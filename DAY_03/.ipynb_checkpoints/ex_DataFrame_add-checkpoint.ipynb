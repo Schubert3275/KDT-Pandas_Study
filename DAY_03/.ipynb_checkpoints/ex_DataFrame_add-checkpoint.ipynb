{
 "cells": [
  {
   "cell_type": "markdown",
   "metadata": {},
   "source": [
    "## [DataFrame에 행/열 추가]"
   ]
  },
  {
   "cell_type": "markdown",
   "metadata": {},
   "source": [
    "(1) 모듈 로딩 <hr>"
   ]
  },
  {
   "cell_type": "code",
   "execution_count": 1,
   "metadata": {},
   "outputs": [],
   "source": [
    "import pandas as pd\n"
   ]
  },
  {
   "cell_type": "markdown",
   "metadata": {},
   "source": [
    "(2) 데이터 준비 <hr>"
   ]
  },
  {
   "cell_type": "code",
   "execution_count": 2,
   "metadata": {},
   "outputs": [],
   "source": [
    "# dict 타입의 데이터 생성\n",
    "exam = {'이름': ['마징가', '배트맨', '홍길동', '임꺽정'],\n",
    "        '국어': [98, 79, 99, 100],\n",
    "        '미술': [70, 99, 87, 80],\n",
    "        '수학': [98, 70, 100, 72],\n",
    "        '체육': [80, 93, 69, 91],}\n"
   ]
  },
  {
   "cell_type": "markdown",
   "metadata": {},
   "source": [
    "(3) DataFrame에 데이터 저장 <hr>"
   ]
  },
  {
   "cell_type": "code",
   "execution_count": 3,
   "metadata": {},
   "outputs": [],
   "source": [
    "examDF = pd.DataFrame(exam)\n"
   ]
  },
  {
   "cell_type": "code",
   "execution_count": 4,
   "metadata": {},
   "outputs": [
    {
     "data": {
      "text/html": [
       "<div>\n",
       "<style scoped>\n",
       "    .dataframe tbody tr th:only-of-type {\n",
       "        vertical-align: middle;\n",
       "    }\n",
       "\n",
       "    .dataframe tbody tr th {\n",
       "        vertical-align: top;\n",
       "    }\n",
       "\n",
       "    .dataframe thead th {\n",
       "        text-align: right;\n",
       "    }\n",
       "</style>\n",
       "<table border=\"1\" class=\"dataframe\">\n",
       "  <thead>\n",
       "    <tr style=\"text-align: right;\">\n",
       "      <th></th>\n",
       "      <th>이름</th>\n",
       "      <th>국어</th>\n",
       "      <th>미술</th>\n",
       "      <th>수학</th>\n",
       "      <th>체육</th>\n",
       "    </tr>\n",
       "  </thead>\n",
       "  <tbody>\n",
       "    <tr>\n",
       "      <th>0</th>\n",
       "      <td>마징가</td>\n",
       "      <td>98</td>\n",
       "      <td>70</td>\n",
       "      <td>98</td>\n",
       "      <td>80</td>\n",
       "    </tr>\n",
       "    <tr>\n",
       "      <th>1</th>\n",
       "      <td>배트맨</td>\n",
       "      <td>79</td>\n",
       "      <td>99</td>\n",
       "      <td>70</td>\n",
       "      <td>93</td>\n",
       "    </tr>\n",
       "    <tr>\n",
       "      <th>2</th>\n",
       "      <td>홍길동</td>\n",
       "      <td>99</td>\n",
       "      <td>87</td>\n",
       "      <td>100</td>\n",
       "      <td>69</td>\n",
       "    </tr>\n",
       "    <tr>\n",
       "      <th>3</th>\n",
       "      <td>임꺽정</td>\n",
       "      <td>100</td>\n",
       "      <td>80</td>\n",
       "      <td>72</td>\n",
       "      <td>91</td>\n",
       "    </tr>\n",
       "  </tbody>\n",
       "</table>\n",
       "</div>"
      ],
      "text/plain": [
       "    이름   국어  미술   수학  체육\n",
       "0  마징가   98  70   98  80\n",
       "1  배트맨   79  99   70  93\n",
       "2  홍길동   99  87  100  69\n",
       "3  임꺽정  100  80   72  91"
      ]
     },
     "execution_count": 4,
     "metadata": {},
     "output_type": "execute_result"
    }
   ],
   "source": [
    "examDF\n"
   ]
  },
  {
   "cell_type": "markdown",
   "metadata": {},
   "source": [
    "(4) 저장된 데이터 속성 확인 <hr>"
   ]
  },
  {
   "cell_type": "code",
   "execution_count": 9,
   "metadata": {},
   "outputs": [],
   "source": [
    "def printAttribute(df, dfname):\n",
    "    print(f'{dfname}')\n",
    "    print(f'index\\n    ===> {df.index}')\n",
    "    print(f'columns\\n    ===> {df.columns}')\n",
    "    print(f'shape\\n    ===> {df.shape}')\n",
    "    print(f'ndim\\n    ===> {df.ndim}')\n",
    "    print(f'size\\n    ===> {df.size}')\n",
    "    print(f'dtypes\\n    ===> {df.dtypes}')\n"
   ]
  },
  {
   "cell_type": "code",
   "execution_count": 10,
   "metadata": {},
   "outputs": [
    {
     "name": "stdout",
     "output_type": "stream",
     "text": [
      "examDF\n",
      "index\n",
      "    ===> RangeIndex(start=0, stop=4, step=1)\n",
      "columns\n",
      "    ===> Index(['이름', '국어', '미술', '수학', '체육'], dtype='object')\n",
      "shape\n",
      "    ===> (4, 5)\n",
      "ndim\n",
      "    ===> 2\n",
      "size\n",
      "    ===> 20\n",
      "dtypes\n",
      "    ===> 이름    object\n",
      "국어     int64\n",
      "미술     int64\n",
      "수학     int64\n",
      "체육     int64\n",
      "dtype: object\n"
     ]
    }
   ],
   "source": [
    "printAttribute(examDF, 'examDF')\n"
   ]
  },
  {
   "cell_type": "markdown",
   "metadata": {},
   "source": [
    "(5) DataFrame에 컬럼(column) 추가 <hr>\n",
    "- 방법 : DF객체변수명[새로운컬럼명] = 값"
   ]
  },
  {
   "cell_type": "code",
   "execution_count": 11,
   "metadata": {},
   "outputs": [
    {
     "data": {
      "text/plain": [
       "Index(['이름', '국어', '미술', '수학', '체육'], dtype='object')"
      ]
     },
     "execution_count": 11,
     "metadata": {},
     "output_type": "execute_result"
    }
   ],
   "source": [
    "examDF.columns\n"
   ]
  },
  {
   "cell_type": "code",
   "execution_count": 12,
   "metadata": {},
   "outputs": [],
   "source": [
    "# 행 갯수 만큼 값 추가\n",
    "examDF['영어'] = [90, 89, 100, 99]\n"
   ]
  },
  {
   "cell_type": "code",
   "execution_count": 13,
   "metadata": {},
   "outputs": [
    {
     "data": {
      "text/html": [
       "<div>\n",
       "<style scoped>\n",
       "    .dataframe tbody tr th:only-of-type {\n",
       "        vertical-align: middle;\n",
       "    }\n",
       "\n",
       "    .dataframe tbody tr th {\n",
       "        vertical-align: top;\n",
       "    }\n",
       "\n",
       "    .dataframe thead th {\n",
       "        text-align: right;\n",
       "    }\n",
       "</style>\n",
       "<table border=\"1\" class=\"dataframe\">\n",
       "  <thead>\n",
       "    <tr style=\"text-align: right;\">\n",
       "      <th></th>\n",
       "      <th>이름</th>\n",
       "      <th>국어</th>\n",
       "      <th>미술</th>\n",
       "      <th>수학</th>\n",
       "      <th>체육</th>\n",
       "      <th>영어</th>\n",
       "    </tr>\n",
       "  </thead>\n",
       "  <tbody>\n",
       "    <tr>\n",
       "      <th>0</th>\n",
       "      <td>마징가</td>\n",
       "      <td>98</td>\n",
       "      <td>70</td>\n",
       "      <td>98</td>\n",
       "      <td>80</td>\n",
       "      <td>90</td>\n",
       "    </tr>\n",
       "    <tr>\n",
       "      <th>1</th>\n",
       "      <td>배트맨</td>\n",
       "      <td>79</td>\n",
       "      <td>99</td>\n",
       "      <td>70</td>\n",
       "      <td>93</td>\n",
       "      <td>89</td>\n",
       "    </tr>\n",
       "    <tr>\n",
       "      <th>2</th>\n",
       "      <td>홍길동</td>\n",
       "      <td>99</td>\n",
       "      <td>87</td>\n",
       "      <td>100</td>\n",
       "      <td>69</td>\n",
       "      <td>100</td>\n",
       "    </tr>\n",
       "    <tr>\n",
       "      <th>3</th>\n",
       "      <td>임꺽정</td>\n",
       "      <td>100</td>\n",
       "      <td>80</td>\n",
       "      <td>72</td>\n",
       "      <td>91</td>\n",
       "      <td>99</td>\n",
       "    </tr>\n",
       "  </tbody>\n",
       "</table>\n",
       "</div>"
      ],
      "text/plain": [
       "    이름   국어  미술   수학  체육   영어\n",
       "0  마징가   98  70   98  80   90\n",
       "1  배트맨   79  99   70  93   89\n",
       "2  홍길동   99  87  100  69  100\n",
       "3  임꺽정  100  80   72  91   99"
      ]
     },
     "execution_count": 13,
     "metadata": {},
     "output_type": "execute_result"
    }
   ],
   "source": [
    "examDF\n"
   ]
  },
  {
   "cell_type": "code",
   "execution_count": 17,
   "metadata": {},
   "outputs": [],
   "source": [
    "# 1개의 데이터 즉 값 추가 시 모든 행에 동일 값으로 저장\n",
    "examDF['과학'] = 10\n"
   ]
  },
  {
   "cell_type": "code",
   "execution_count": 15,
   "metadata": {},
   "outputs": [
    {
     "data": {
      "text/html": [
       "<div>\n",
       "<style scoped>\n",
       "    .dataframe tbody tr th:only-of-type {\n",
       "        vertical-align: middle;\n",
       "    }\n",
       "\n",
       "    .dataframe tbody tr th {\n",
       "        vertical-align: top;\n",
       "    }\n",
       "\n",
       "    .dataframe thead th {\n",
       "        text-align: right;\n",
       "    }\n",
       "</style>\n",
       "<table border=\"1\" class=\"dataframe\">\n",
       "  <thead>\n",
       "    <tr style=\"text-align: right;\">\n",
       "      <th></th>\n",
       "      <th>이름</th>\n",
       "      <th>국어</th>\n",
       "      <th>미술</th>\n",
       "      <th>수학</th>\n",
       "      <th>체육</th>\n",
       "      <th>영어</th>\n",
       "      <th>과학</th>\n",
       "    </tr>\n",
       "  </thead>\n",
       "  <tbody>\n",
       "    <tr>\n",
       "      <th>0</th>\n",
       "      <td>마징가</td>\n",
       "      <td>98</td>\n",
       "      <td>70</td>\n",
       "      <td>98</td>\n",
       "      <td>80</td>\n",
       "      <td>90</td>\n",
       "      <td>10</td>\n",
       "    </tr>\n",
       "    <tr>\n",
       "      <th>1</th>\n",
       "      <td>배트맨</td>\n",
       "      <td>79</td>\n",
       "      <td>99</td>\n",
       "      <td>70</td>\n",
       "      <td>93</td>\n",
       "      <td>89</td>\n",
       "      <td>10</td>\n",
       "    </tr>\n",
       "    <tr>\n",
       "      <th>2</th>\n",
       "      <td>홍길동</td>\n",
       "      <td>99</td>\n",
       "      <td>87</td>\n",
       "      <td>100</td>\n",
       "      <td>69</td>\n",
       "      <td>100</td>\n",
       "      <td>10</td>\n",
       "    </tr>\n",
       "    <tr>\n",
       "      <th>3</th>\n",
       "      <td>임꺽정</td>\n",
       "      <td>100</td>\n",
       "      <td>80</td>\n",
       "      <td>72</td>\n",
       "      <td>91</td>\n",
       "      <td>99</td>\n",
       "      <td>10</td>\n",
       "    </tr>\n",
       "  </tbody>\n",
       "</table>\n",
       "</div>"
      ],
      "text/plain": [
       "    이름   국어  미술   수학  체육   영어  과학\n",
       "0  마징가   98  70   98  80   90  10\n",
       "1  배트맨   79  99   70  93   89  10\n",
       "2  홍길동   99  87  100  69  100  10\n",
       "3  임꺽정  100  80   72  91   99  10"
      ]
     },
     "execution_count": 15,
     "metadata": {},
     "output_type": "execute_result"
    }
   ],
   "source": [
    "examDF\n"
   ]
  },
  {
   "cell_type": "code",
   "execution_count": 19,
   "metadata": {},
   "outputs": [],
   "source": [
    "# 1개의 데이터 즉 값 추가 시 모든 행에 동일 값으로 저장\n",
    "examDF[6] = 0\n"
   ]
  },
  {
   "cell_type": "code",
   "execution_count": 20,
   "metadata": {},
   "outputs": [
    {
     "data": {
      "text/html": [
       "<div>\n",
       "<style scoped>\n",
       "    .dataframe tbody tr th:only-of-type {\n",
       "        vertical-align: middle;\n",
       "    }\n",
       "\n",
       "    .dataframe tbody tr th {\n",
       "        vertical-align: top;\n",
       "    }\n",
       "\n",
       "    .dataframe thead th {\n",
       "        text-align: right;\n",
       "    }\n",
       "</style>\n",
       "<table border=\"1\" class=\"dataframe\">\n",
       "  <thead>\n",
       "    <tr style=\"text-align: right;\">\n",
       "      <th></th>\n",
       "      <th>이름</th>\n",
       "      <th>국어</th>\n",
       "      <th>미술</th>\n",
       "      <th>수학</th>\n",
       "      <th>체육</th>\n",
       "      <th>영어</th>\n",
       "      <th>과학</th>\n",
       "      <th>6</th>\n",
       "    </tr>\n",
       "  </thead>\n",
       "  <tbody>\n",
       "    <tr>\n",
       "      <th>0</th>\n",
       "      <td>마징가</td>\n",
       "      <td>98</td>\n",
       "      <td>70</td>\n",
       "      <td>98</td>\n",
       "      <td>80</td>\n",
       "      <td>90</td>\n",
       "      <td>10</td>\n",
       "      <td>0</td>\n",
       "    </tr>\n",
       "    <tr>\n",
       "      <th>1</th>\n",
       "      <td>배트맨</td>\n",
       "      <td>79</td>\n",
       "      <td>99</td>\n",
       "      <td>70</td>\n",
       "      <td>93</td>\n",
       "      <td>89</td>\n",
       "      <td>10</td>\n",
       "      <td>0</td>\n",
       "    </tr>\n",
       "    <tr>\n",
       "      <th>2</th>\n",
       "      <td>홍길동</td>\n",
       "      <td>99</td>\n",
       "      <td>87</td>\n",
       "      <td>100</td>\n",
       "      <td>69</td>\n",
       "      <td>100</td>\n",
       "      <td>10</td>\n",
       "      <td>0</td>\n",
       "    </tr>\n",
       "    <tr>\n",
       "      <th>3</th>\n",
       "      <td>임꺽정</td>\n",
       "      <td>100</td>\n",
       "      <td>80</td>\n",
       "      <td>72</td>\n",
       "      <td>91</td>\n",
       "      <td>99</td>\n",
       "      <td>10</td>\n",
       "      <td>0</td>\n",
       "    </tr>\n",
       "  </tbody>\n",
       "</table>\n",
       "</div>"
      ],
      "text/plain": [
       "    이름   국어  미술   수학  체육   영어  과학  6\n",
       "0  마징가   98  70   98  80   90  10  0\n",
       "1  배트맨   79  99   70  93   89  10  0\n",
       "2  홍길동   99  87  100  69  100  10  0\n",
       "3  임꺽정  100  80   72  91   99  10  0"
      ]
     },
     "execution_count": 20,
     "metadata": {},
     "output_type": "execute_result"
    }
   ],
   "source": [
    "examDF\n"
   ]
  },
  {
   "cell_type": "code",
   "execution_count": 22,
   "metadata": {},
   "outputs": [
    {
     "data": {
      "text/plain": [
       "Index(['이름', '국어', '미술', '수학', '체육', '영어', '과학', 6], dtype='object')"
      ]
     },
     "execution_count": 22,
     "metadata": {},
     "output_type": "execute_result"
    }
   ],
   "source": [
    "examDF.columns\n"
   ]
  },
  {
   "cell_type": "markdown",
   "metadata": {},
   "source": [
    "(6) DataFrame에 행(row) 추가 <hr>\n",
    "- 방법 : DF객체변수명.loc[새로운행인덱스] = [컬럼수 만큼 데이터]\n",
    "- 방법 : DF객체변수명.loc[새로운행인덱스] = 데이터\n",
    "- 불가 방법 : DF객체변수명.iloc[새로운행인덱스] = 데이터 => 데이터 존재해야 인덱스 할당됨"
   ]
  },
  {
   "cell_type": "code",
   "execution_count": 23,
   "metadata": {},
   "outputs": [
    {
     "data": {
      "text/plain": [
       "RangeIndex(start=0, stop=4, step=1)"
      ]
     },
     "execution_count": 23,
     "metadata": {},
     "output_type": "execute_result"
    }
   ],
   "source": [
    "examDF.index\n"
   ]
  },
  {
   "cell_type": "code",
   "execution_count": 24,
   "metadata": {},
   "outputs": [],
   "source": [
    "# 컬럼 수 만큼의 데이터를 가진 행 추가\n",
    "examDF.loc[4] = ['원더우먼', 90, 87, 99, 87, 67, 80, 100]\n"
   ]
  },
  {
   "cell_type": "code",
   "execution_count": 25,
   "metadata": {},
   "outputs": [
    {
     "data": {
      "text/html": [
       "<div>\n",
       "<style scoped>\n",
       "    .dataframe tbody tr th:only-of-type {\n",
       "        vertical-align: middle;\n",
       "    }\n",
       "\n",
       "    .dataframe tbody tr th {\n",
       "        vertical-align: top;\n",
       "    }\n",
       "\n",
       "    .dataframe thead th {\n",
       "        text-align: right;\n",
       "    }\n",
       "</style>\n",
       "<table border=\"1\" class=\"dataframe\">\n",
       "  <thead>\n",
       "    <tr style=\"text-align: right;\">\n",
       "      <th></th>\n",
       "      <th>이름</th>\n",
       "      <th>국어</th>\n",
       "      <th>미술</th>\n",
       "      <th>수학</th>\n",
       "      <th>체육</th>\n",
       "      <th>영어</th>\n",
       "      <th>과학</th>\n",
       "      <th>6</th>\n",
       "    </tr>\n",
       "  </thead>\n",
       "  <tbody>\n",
       "    <tr>\n",
       "      <th>0</th>\n",
       "      <td>마징가</td>\n",
       "      <td>98</td>\n",
       "      <td>70</td>\n",
       "      <td>98</td>\n",
       "      <td>80</td>\n",
       "      <td>90</td>\n",
       "      <td>10</td>\n",
       "      <td>0</td>\n",
       "    </tr>\n",
       "    <tr>\n",
       "      <th>1</th>\n",
       "      <td>배트맨</td>\n",
       "      <td>79</td>\n",
       "      <td>99</td>\n",
       "      <td>70</td>\n",
       "      <td>93</td>\n",
       "      <td>89</td>\n",
       "      <td>10</td>\n",
       "      <td>0</td>\n",
       "    </tr>\n",
       "    <tr>\n",
       "      <th>2</th>\n",
       "      <td>홍길동</td>\n",
       "      <td>99</td>\n",
       "      <td>87</td>\n",
       "      <td>100</td>\n",
       "      <td>69</td>\n",
       "      <td>100</td>\n",
       "      <td>10</td>\n",
       "      <td>0</td>\n",
       "    </tr>\n",
       "    <tr>\n",
       "      <th>3</th>\n",
       "      <td>임꺽정</td>\n",
       "      <td>100</td>\n",
       "      <td>80</td>\n",
       "      <td>72</td>\n",
       "      <td>91</td>\n",
       "      <td>99</td>\n",
       "      <td>10</td>\n",
       "      <td>0</td>\n",
       "    </tr>\n",
       "    <tr>\n",
       "      <th>4</th>\n",
       "      <td>원더우먼</td>\n",
       "      <td>90</td>\n",
       "      <td>87</td>\n",
       "      <td>99</td>\n",
       "      <td>87</td>\n",
       "      <td>67</td>\n",
       "      <td>80</td>\n",
       "      <td>100</td>\n",
       "    </tr>\n",
       "  </tbody>\n",
       "</table>\n",
       "</div>"
      ],
      "text/plain": [
       "     이름   국어  미술   수학  체육   영어  과학    6\n",
       "0   마징가   98  70   98  80   90  10    0\n",
       "1   배트맨   79  99   70  93   89  10    0\n",
       "2   홍길동   99  87  100  69  100  10    0\n",
       "3   임꺽정  100  80   72  91   99  10    0\n",
       "4  원더우먼   90  87   99  87   67  80  100"
      ]
     },
     "execution_count": 25,
     "metadata": {},
     "output_type": "execute_result"
    }
   ],
   "source": [
    "examDF\n"
   ]
  },
  {
   "cell_type": "code",
   "execution_count": 27,
   "metadata": {},
   "outputs": [],
   "source": [
    "# 행 추가 시 iloc는 사용불가 => Why? 데이터 수에 맞게 인덱스 범위 지정이 되기 때문에\n",
    "# 현재 인덱스에 없는 인덱스로 불가\n",
    "# examDF.iloc[5] = ['슈퍼맨', 90, 87, 99, 87, 67, 80, 100]\n"
   ]
  },
  {
   "cell_type": "code",
   "execution_count": 28,
   "metadata": {},
   "outputs": [],
   "source": [
    "# 1개 데이터 가진 행 추가\n",
    "examDF.loc[5] = '슈퍼맨'\n"
   ]
  },
  {
   "cell_type": "code",
   "execution_count": 29,
   "metadata": {},
   "outputs": [
    {
     "data": {
      "text/html": [
       "<div>\n",
       "<style scoped>\n",
       "    .dataframe tbody tr th:only-of-type {\n",
       "        vertical-align: middle;\n",
       "    }\n",
       "\n",
       "    .dataframe tbody tr th {\n",
       "        vertical-align: top;\n",
       "    }\n",
       "\n",
       "    .dataframe thead th {\n",
       "        text-align: right;\n",
       "    }\n",
       "</style>\n",
       "<table border=\"1\" class=\"dataframe\">\n",
       "  <thead>\n",
       "    <tr style=\"text-align: right;\">\n",
       "      <th></th>\n",
       "      <th>이름</th>\n",
       "      <th>국어</th>\n",
       "      <th>미술</th>\n",
       "      <th>수학</th>\n",
       "      <th>체육</th>\n",
       "      <th>영어</th>\n",
       "      <th>과학</th>\n",
       "      <th>6</th>\n",
       "    </tr>\n",
       "  </thead>\n",
       "  <tbody>\n",
       "    <tr>\n",
       "      <th>0</th>\n",
       "      <td>마징가</td>\n",
       "      <td>98</td>\n",
       "      <td>70</td>\n",
       "      <td>98</td>\n",
       "      <td>80</td>\n",
       "      <td>90</td>\n",
       "      <td>10</td>\n",
       "      <td>0</td>\n",
       "    </tr>\n",
       "    <tr>\n",
       "      <th>1</th>\n",
       "      <td>배트맨</td>\n",
       "      <td>79</td>\n",
       "      <td>99</td>\n",
       "      <td>70</td>\n",
       "      <td>93</td>\n",
       "      <td>89</td>\n",
       "      <td>10</td>\n",
       "      <td>0</td>\n",
       "    </tr>\n",
       "    <tr>\n",
       "      <th>2</th>\n",
       "      <td>홍길동</td>\n",
       "      <td>99</td>\n",
       "      <td>87</td>\n",
       "      <td>100</td>\n",
       "      <td>69</td>\n",
       "      <td>100</td>\n",
       "      <td>10</td>\n",
       "      <td>0</td>\n",
       "    </tr>\n",
       "    <tr>\n",
       "      <th>3</th>\n",
       "      <td>임꺽정</td>\n",
       "      <td>100</td>\n",
       "      <td>80</td>\n",
       "      <td>72</td>\n",
       "      <td>91</td>\n",
       "      <td>99</td>\n",
       "      <td>10</td>\n",
       "      <td>0</td>\n",
       "    </tr>\n",
       "    <tr>\n",
       "      <th>4</th>\n",
       "      <td>원더우먼</td>\n",
       "      <td>90</td>\n",
       "      <td>87</td>\n",
       "      <td>99</td>\n",
       "      <td>87</td>\n",
       "      <td>67</td>\n",
       "      <td>80</td>\n",
       "      <td>100</td>\n",
       "    </tr>\n",
       "    <tr>\n",
       "      <th>5</th>\n",
       "      <td>슈퍼맨</td>\n",
       "      <td>슈퍼맨</td>\n",
       "      <td>슈퍼맨</td>\n",
       "      <td>슈퍼맨</td>\n",
       "      <td>슈퍼맨</td>\n",
       "      <td>슈퍼맨</td>\n",
       "      <td>슈퍼맨</td>\n",
       "      <td>슈퍼맨</td>\n",
       "    </tr>\n",
       "  </tbody>\n",
       "</table>\n",
       "</div>"
      ],
      "text/plain": [
       "     이름   국어   미술   수학   체육   영어   과학    6\n",
       "0   마징가   98   70   98   80   90   10    0\n",
       "1   배트맨   79   99   70   93   89   10    0\n",
       "2   홍길동   99   87  100   69  100   10    0\n",
       "3   임꺽정  100   80   72   91   99   10    0\n",
       "4  원더우먼   90   87   99   87   67   80  100\n",
       "5   슈퍼맨  슈퍼맨  슈퍼맨  슈퍼맨  슈퍼맨  슈퍼맨  슈퍼맨  슈퍼맨"
      ]
     },
     "execution_count": 29,
     "metadata": {},
     "output_type": "execute_result"
    }
   ],
   "source": [
    "examDF\n"
   ]
  },
  {
   "cell_type": "code",
   "execution_count": null,
   "metadata": {},
   "outputs": [],
   "source": []
  },
  {
   "cell_type": "code",
   "execution_count": null,
   "metadata": {},
   "outputs": [],
   "source": []
  }
 ],
 "metadata": {
  "kernelspec": {
   "display_name": "Python 3 (ipykernel)",
   "language": "python",
   "name": "python3"
  },
  "language_info": {
   "codemirror_mode": {
    "name": "ipython",
    "version": 3
   },
   "file_extension": ".py",
   "mimetype": "text/x-python",
   "name": "python",
   "nbconvert_exporter": "python",
   "pygments_lexer": "ipython3",
   "version": "3.8.18"
  }
 },
 "nbformat": 4,
 "nbformat_minor": 4
}
