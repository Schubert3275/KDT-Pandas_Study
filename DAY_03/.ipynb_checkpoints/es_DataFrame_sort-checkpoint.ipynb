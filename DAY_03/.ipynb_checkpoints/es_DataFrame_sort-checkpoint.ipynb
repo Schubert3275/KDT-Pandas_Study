{
 "cells": [
  {
   "cell_type": "code",
   "execution_count": null,
   "id": "0bc8bb84-2551-43b8-87fa-f31ff80cb621",
   "metadata": {},
   "outputs": [],
   "source": []
  },
  {
   "cell_type": "code",
   "execution_count": null,
   "id": "c6071584-debd-47e5-ab92-2c081417ead6",
   "metadata": {},
   "outputs": [],
   "source": []
  }
 ],
 "metadata": {
  "kernelspec": {
   "display_name": "Python 3 (ipykernel)",
   "language": "python",
   "name": "python3"
  },
  "language_info": {
   "codemirror_mode": {
    "name": "ipython",
    "version": 3
   },
   "file_extension": ".py",
   "mimetype": "text/x-python",
   "name": "python",
   "nbconvert_exporter": "python",
   "pygments_lexer": "ipython3",
   "version": "3.8.18"
  }
 },
 "nbformat": 4,
 "nbformat_minor": 5
}
