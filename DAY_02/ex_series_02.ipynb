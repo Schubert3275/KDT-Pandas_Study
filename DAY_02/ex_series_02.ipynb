{
 "cells": [
  {
   "cell_type": "markdown",
   "id": "5a7bb359",
   "metadata": {},
   "source": [
    "## [다양한 Series 객체 생성]\n",
    "#### (1) 모듈 로딩"
   ]
  },
  {
   "cell_type": "code",
   "execution_count": 1,
   "id": "0a517805-01cc-483f-8d84-ddfc1129e197",
   "metadata": {},
   "outputs": [],
   "source": [
    "import pandas as pd\n"
   ]
  },
  {
   "cell_type": "markdown",
   "id": "107daf3a",
   "metadata": {},
   "source": [
    "#### (2) Series 객체 생성 - 방법 1\n",
    "- Series(data, index=지정)"
   ]
  },
  {
   "cell_type": "code",
   "execution_count": 2,
   "id": "4a0c96ca",
   "metadata": {},
   "outputs": [
    {
     "data": {
      "text/plain": [
       "one      11\n",
       "two      22\n",
       "three    33\n",
       "dtype: int64"
      ]
     },
     "execution_count": 2,
     "metadata": {},
     "output_type": "execute_result"
    }
   ],
   "source": [
    "sr1 = pd.Series([11, 22, 33], index=['one', 'two', 'three'])\n",
    "sr1\n"
   ]
  },
  {
   "cell_type": "markdown",
   "id": "b9880f7d",
   "metadata": {},
   "source": [
    "#### (2) Series 객체 생성 - 방법 2"
   ]
  },
  {
   "cell_type": "code",
   "execution_count": 3,
   "id": "844144fd",
   "metadata": {},
   "outputs": [
    {
     "data": {
      "text/plain": [
       "one      11\n",
       "two      22\n",
       "three    33\n",
       "Name: jumsu, dtype: int64"
      ]
     },
     "execution_count": 3,
     "metadata": {},
     "output_type": "execute_result"
    }
   ],
   "source": [
    "sr1 = pd.Series([11, 22, 33], index=['one', 'two', 'three'], name='jumsu')\n",
    "sr1\n"
   ]
  },
  {
   "cell_type": "markdown",
   "id": "71fe4c6f",
   "metadata": {},
   "source": [
    "#### (2) Series 객체 생성 - 방법 3"
   ]
  },
  {
   "cell_type": "code",
   "execution_count": 4,
   "id": "597ea655",
   "metadata": {},
   "outputs": [
    {
     "data": {
      "text/plain": [
       "one      11\n",
       "two      22\n",
       "three    33\n",
       "Name: jumsu, dtype: uint8"
      ]
     },
     "execution_count": 4,
     "metadata": {},
     "output_type": "execute_result"
    }
   ],
   "source": [
    "sr1 = pd.Series([11, 22, 33], index=['one', 'two', 'three'], name='jumsu', dtype='uint8')\n",
    "sr1\n"
   ]
  },
  {
   "cell_type": "markdown",
   "id": "04dd8110",
   "metadata": {},
   "source": [
    "#### (2) Series 객체 생성 - 방법 4 => 저장되는 데이터 dict"
   ]
  },
  {
   "cell_type": "code",
   "execution_count": 5,
   "id": "f821a652",
   "metadata": {},
   "outputs": [
    {
     "data": {
      "text/plain": [
       "name    홍길동\n",
       "age      12\n",
       "jog      도적\n",
       "dtype: object"
      ]
     },
     "execution_count": 5,
     "metadata": {},
     "output_type": "execute_result"
    }
   ],
   "source": [
    "data = {'name': '홍길동', 'age': 12, 'jog': '도적'}\n",
    "sr1 = pd.Series(data)\n",
    "sr1\n"
   ]
  },
  {
   "cell_type": "code",
   "execution_count": 7,
   "id": "b1321d19",
   "metadata": {},
   "outputs": [
    {
     "name": "stdout",
     "output_type": "stream",
     "text": [
      "Index(['name', 'age', 'jog'], dtype='object')\n",
      "['홍길동' 12 '도적']\n"
     ]
    }
   ],
   "source": [
    "# 속성 확인하기\n",
    "print(sr1.index, sr1.values, sep='\\n')\n"
   ]
  },
  {
   "cell_type": "code",
   "execution_count": 8,
   "id": "10b1be6d",
   "metadata": {},
   "outputs": [
    {
     "data": {
      "text/plain": [
       "(Index(['name', 'age', 'jog'], dtype='object'),\n",
       " array(['홍길동', 12, '도적'], dtype=object))"
      ]
     },
     "execution_count": 8,
     "metadata": {},
     "output_type": "execute_result"
    }
   ],
   "source": [
    "sr1.index, sr1.values\n"
   ]
  },
  {
   "cell_type": "markdown",
   "id": "051f0e15",
   "metadata": {},
   "source": [
    "#### (2) Series 객체 생성 - 방법 4 => 저장되는 데이터 set"
   ]
  },
  {
   "cell_type": "code",
   "execution_count": 14,
   "id": "873663ca",
   "metadata": {},
   "outputs": [
    {
     "data": {
      "text/plain": [
       "0    홍길동\n",
       "1     도적\n",
       "2     12\n",
       "dtype: object"
      ]
     },
     "execution_count": 14,
     "metadata": {},
     "output_type": "execute_result"
    }
   ],
   "source": [
    "data = {'홍길동', 12, '도적'}\n",
    "\n",
    "# 형변환 후 객체 생성 가능\n",
    "sr1 = pd.Series(list(data))\n",
    "sr1\n"
   ]
  },
  {
   "cell_type": "code",
   "execution_count": null,
   "id": "34ee24de",
   "metadata": {},
   "outputs": [],
   "source": []
  }
 ],
 "metadata": {
  "kernelspec": {
   "display_name": "Python 3 (ipykernel)",
   "language": "python",
   "name": "python3"
  },
  "language_info": {
   "codemirror_mode": {
    "name": "ipython",
    "version": 3
   },
   "file_extension": ".py",
   "mimetype": "text/x-python",
   "name": "python",
   "nbconvert_exporter": "python",
   "pygments_lexer": "ipython3",
   "version": "3.8.18"
  }
 },
 "nbformat": 4,
 "nbformat_minor": 5
}
