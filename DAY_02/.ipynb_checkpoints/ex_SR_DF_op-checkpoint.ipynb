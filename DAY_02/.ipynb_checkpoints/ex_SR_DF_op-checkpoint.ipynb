{
 "cells": [
  {
   "cell_type": "markdown",
   "id": "d223790d-3aa8-4a38-9a83-c4c2f8eebe08",
   "metadata": {},
   "source": [
    "## [Series 데이터 연산]"
   ]
  },
  {
   "cell_type": "markdown",
   "id": "f3df3ec4-630d-46b0-9a68-796a63fec711",
   "metadata": {},
   "source": [
    "(1) 모듈 로딩 <hr>"
   ]
  },
  {
   "cell_type": "code",
   "execution_count": 2,
   "id": "f9679ff6-2448-41c5-b8b3-17d5d1e56e68",
   "metadata": {},
   "outputs": [],
   "source": [
    "import pandas as pd\n",
    "import numpy as np  # import math as m ==> m.nan"
   ]
  },
  {
   "cell_type": "markdown",
   "id": "147dd03f-cd18-4fea-a831-0ed6bc4b1304",
   "metadata": {},
   "source": [
    "(2) 데이터 준비 <hr>"
   ]
  },
  {
   "cell_type": "code",
   "execution_count": 3,
   "id": "5ef67f95-e1b6-446c-9245-37f6905e8b3b",
   "metadata": {},
   "outputs": [],
   "source": [
    "data = [5, 7, np.nan, 9, 11]"
   ]
  },
  {
   "cell_type": "markdown",
   "id": "3960ed2c-385c-462a-8fd0-b32fcf3a26d1",
   "metadata": {},
   "source": [
    "(3) 데이터 저장 => 1차원 데이터로 Series에 저장"
   ]
  },
  {
   "cell_type": "code",
   "execution_count": 4,
   "id": "423bcdce-8e04-41c7-9d63-069321e131f2",
   "metadata": {},
   "outputs": [],
   "source": [
    "sr = pd.Series(data)"
   ]
  },
  {
   "cell_type": "markdown",
   "id": "17a3a6f6-1fa6-4826-a4cd-f8144cb14fe0",
   "metadata": {},
   "source": [
    "(4) 데이터 확인"
   ]
  },
  {
   "cell_type": "code",
   "execution_count": 7,
   "id": "d8f5ad37-ec8e-45fb-a9f4-d02164325618",
   "metadata": {},
   "outputs": [
    {
     "data": {
      "text/plain": [
       "(RangeIndex(start=0, stop=5, step=1), (5,), 1, dtype('float64'), 5)"
      ]
     },
     "execution_count": 7,
     "metadata": {},
     "output_type": "execute_result"
    }
   ],
   "source": [
    "sr.index, sr.shape, sr.ndim, sr.dtype, sr.size"
   ]
  },
  {
   "cell_type": "code",
   "execution_count": 8,
   "id": "121f2b57-0126-4812-ad5c-3a397700b1cd",
   "metadata": {},
   "outputs": [
    {
     "data": {
      "text/plain": [
       "array([ 5.,  7., nan,  9., 11.])"
      ]
     },
     "execution_count": 8,
     "metadata": {},
     "output_type": "execute_result"
    }
   ],
   "source": [
    "sr.values"
   ]
  },
  {
   "cell_type": "code",
   "execution_count": null,
   "id": "ad218733-77d3-44b8-a18f-629018129ac1",
   "metadata": {},
   "outputs": [],
   "source": []
  },
  {
   "cell_type": "code",
   "execution_count": null,
   "id": "6f45218e-edaa-4806-a763-f3b025f97bd4",
   "metadata": {},
   "outputs": [],
   "source": []
  },
  {
   "cell_type": "code",
   "execution_count": null,
   "id": "5f83f8ac-066f-446c-8230-f567665cd0ff",
   "metadata": {},
   "outputs": [],
   "source": []
  },
  {
   "cell_type": "code",
   "execution_count": null,
   "id": "e181aa1d-a448-4d83-b09a-b30949fc9756",
   "metadata": {},
   "outputs": [],
   "source": []
  },
  {
   "cell_type": "code",
   "execution_count": null,
   "id": "aaac8a68-9542-4e0d-bad2-90447baf2cb3",
   "metadata": {},
   "outputs": [],
   "source": []
  },
  {
   "cell_type": "code",
   "execution_count": null,
   "id": "de7675dd-9796-4537-a217-34bb329b946b",
   "metadata": {},
   "outputs": [],
   "source": []
  },
  {
   "cell_type": "code",
   "execution_count": null,
   "id": "0737f38d-ff9f-41f5-805f-2b5811af6097",
   "metadata": {},
   "outputs": [],
   "source": []
  },
  {
   "cell_type": "code",
   "execution_count": null,
   "id": "c13063bd-b52a-43f2-99ad-084b5568c869",
   "metadata": {},
   "outputs": [],
   "source": []
  },
  {
   "cell_type": "code",
   "execution_count": null,
   "id": "8c7aaca2-2cc8-4fad-a4e5-681acf4fa98d",
   "metadata": {},
   "outputs": [],
   "source": []
  },
  {
   "cell_type": "code",
   "execution_count": null,
   "id": "35a133fc-d53c-4629-8757-d48b385e8f47",
   "metadata": {},
   "outputs": [],
   "source": []
  },
  {
   "cell_type": "code",
   "execution_count": null,
   "id": "88751e34-8394-4242-a01d-8ccc3e84bc7d",
   "metadata": {},
   "outputs": [],
   "source": []
  },
  {
   "cell_type": "code",
   "execution_count": null,
   "id": "dbb17b45-21bd-4bf0-bbb7-59544ffc99ca",
   "metadata": {},
   "outputs": [],
   "source": []
  }
 ],
 "metadata": {
  "kernelspec": {
   "display_name": "Python 3 (ipykernel)",
   "language": "python",
   "name": "python3"
  },
  "language_info": {
   "codemirror_mode": {
    "name": "ipython",
    "version": 3
   },
   "file_extension": ".py",
   "mimetype": "text/x-python",
   "name": "python",
   "nbconvert_exporter": "python",
   "pygments_lexer": "ipython3",
   "version": "3.8.18"
  }
 },
 "nbformat": 4,
 "nbformat_minor": 5
}
