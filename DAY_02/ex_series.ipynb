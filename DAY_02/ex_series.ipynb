{
 "cells": [
  {
   "cell_type": "markdown",
   "id": "be41ed18-5b50-4d8c-87f5-aa1ed2656ce9",
   "metadata": {},
   "source": [
    "<h1>시리즈(Series) 살펴보기</h1>\n",
    "\n",
    "- 판다스에서 데이터를 저장하는 자료 구조 중 하나\n",
    "- 동일한 타입의 데이터를 연속된 메모리 공간에 저장 함\n",
    "- 구성 : 인덱스 + 데이터\n",
    "- 생성 : Series() 생성자 메서드"
   ]
  },
  {
   "cell_type": "markdown",
   "id": "ce8b3a01-c06c-4e39-8bda-6b8d4b571b05",
   "metadata": {},
   "source": [
    "#### (1) 모듈 로딩 --------------------------------------------------------------"
   ]
  },
  {
   "cell_type": "code",
   "execution_count": 1,
   "id": "287b23fc-de7d-4cea-9c07-0ca2c90128bc",
   "metadata": {},
   "outputs": [],
   "source": [
    "import pandas as pd"
   ]
  },
  {
   "cell_type": "markdown",
   "id": "b2564ae9-c5ce-448e-877e-b5642661634a",
   "metadata": {},
   "source": [
    "#### (2) 시리즈 객체 생성 ------------------------------------------------------"
   ]
  },
  {
   "cell_type": "code",
   "execution_count": 2,
   "id": "961a4495-b393-4035-aa49-f836ceaf491f",
   "metadata": {},
   "outputs": [],
   "source": [
    "# 객체 생성에 사용되는 메서드 => 생성자(Constructor)\n",
    "# 데이터 타입과 동일한 이름의 메서드 => Series()\n",
    "sr = pd.Series([11, 22., '33'])\n"
   ]
  },
  {
   "cell_type": "code",
   "execution_count": 3,
   "id": "f3b0ea60-c868-48a2-998c-5ff527eab9a7",
   "metadata": {},
   "outputs": [
    {
     "data": {
      "text/plain": [
       "0      11\n",
       "1    22.0\n",
       "2      33\n",
       "dtype: object"
      ]
     },
     "execution_count": 3,
     "metadata": {},
     "output_type": "execute_result"
    }
   ],
   "source": [
    "sr"
   ]
  },
  {
   "cell_type": "code",
   "execution_count": 4,
   "id": "0037e27c-6a16-42fb-970b-539ac497722c",
   "metadata": {},
   "outputs": [
    {
     "data": {
      "text/plain": [
       "pandas.core.series.Series"
      ]
     },
     "execution_count": 4,
     "metadata": {},
     "output_type": "execute_result"
    }
   ],
   "source": [
    "type(sr)"
   ]
  },
  {
   "cell_type": "markdown",
   "id": "a7b49395-f1e0-42df-b744-ef86f846ca12",
   "metadata": {},
   "source": [
    "- Series 객체의 속성(attributes)/필드(field) 살펴보기\n",
    "    * 기본 : data, index, dtype\n",
    "    * 읽기 : 객체변수명.속성명\n",
    "    * 쓰기 : 객체변수명.속성명 = 새로운 값 [모든 속성이 가능한 것은 아님!!!]"
   ]
  },
  {
   "cell_type": "code",
   "execution_count": 5,
   "id": "a83b21dc-1866-471e-b5aa-ed4b6814e59b",
   "metadata": {},
   "outputs": [
    {
     "data": {
      "text/plain": [
       "RangeIndex(start=0, stop=3, step=1)"
      ]
     },
     "execution_count": 5,
     "metadata": {},
     "output_type": "execute_result"
    }
   ],
   "source": [
    "# 현재 시리즈 객체에 저장된 인덱스 속성 확인\n",
    "sr.index"
   ]
  },
  {
   "cell_type": "code",
   "execution_count": 6,
   "id": "84b25223-f3ee-4024-a00e-3d152048d796",
   "metadata": {},
   "outputs": [
    {
     "data": {
      "text/plain": [
       "array([11, 22.0, '33'], dtype=object)"
      ]
     },
     "execution_count": 6,
     "metadata": {},
     "output_type": "execute_result"
    }
   ],
   "source": [
    "# 현재 시리즈 객체에 저장된 데이터 즉 값 확인\n",
    "sr.values"
   ]
  },
  {
   "cell_type": "code",
   "execution_count": 7,
   "id": "87c4c39e-96b0-473c-9cd4-b11b0573bfb7",
   "metadata": {},
   "outputs": [],
   "source": [
    "# 시리즈 객체의 인덱스 변경\n",
    "sr.index = [100, 200, 300]"
   ]
  },
  {
   "cell_type": "code",
   "execution_count": 8,
   "id": "b421874a-1d83-42f3-b28f-e76e03a85099",
   "metadata": {},
   "outputs": [
    {
     "data": {
      "text/plain": [
       "100      11\n",
       "200    22.0\n",
       "300      33\n",
       "dtype: object"
      ]
     },
     "execution_count": 8,
     "metadata": {},
     "output_type": "execute_result"
    }
   ],
   "source": [
    "sr"
   ]
  },
  {
   "cell_type": "code",
   "execution_count": 9,
   "id": "0e28900b-ccec-4fc4-a1c4-ceec2cfcfc18",
   "metadata": {},
   "outputs": [
    {
     "data": {
      "text/plain": [
       "A      11\n",
       "B    22.0\n",
       "C      33\n",
       "dtype: object"
      ]
     },
     "execution_count": 9,
     "metadata": {},
     "output_type": "execute_result"
    }
   ],
   "source": [
    "sr.index = ['A', 'B', 'C']\n",
    "sr"
   ]
  },
  {
   "cell_type": "code",
   "execution_count": 10,
   "id": "fad68d00-db6a-4603-9f74-c1522363eee3",
   "metadata": {},
   "outputs": [],
   "source": [
    "# values 속성은 속성방식으로 변경 불가!!!\n",
    "# sr.values = [777, 888, 999]"
   ]
  },
  {
   "cell_type": "markdown",
   "id": "2093d654-5ced-4e42-b7ee-df0e5e6ff940",
   "metadata": {},
   "source": [
    "- 시리즈 객체의 요소 데이터/값 제어\n",
    "    * 읽기 : 객체변수명[인덱스]\n",
    "    * 쓰기 : 객체변수명[인덱스] = 새로운 값"
   ]
  },
  {
   "cell_type": "code",
   "execution_count": 11,
   "id": "610328ad-68a9-47fb-abf2-b0f401c6d04d",
   "metadata": {},
   "outputs": [
    {
     "data": {
      "text/plain": [
       "11"
      ]
     },
     "execution_count": 11,
     "metadata": {},
     "output_type": "execute_result"
    }
   ],
   "source": [
    "sr['A']"
   ]
  },
  {
   "cell_type": "code",
   "execution_count": 12,
   "id": "7f69933a-4ce9-4e93-8560-8163dea5b1aa",
   "metadata": {},
   "outputs": [
    {
     "data": {
      "text/plain": [
       "A    2024\n",
       "B    22.0\n",
       "C      33\n",
       "dtype: object"
      ]
     },
     "execution_count": 12,
     "metadata": {},
     "output_type": "execute_result"
    }
   ],
   "source": [
    "sr['A'] = 2024\n",
    "sr"
   ]
  },
  {
   "cell_type": "code",
   "execution_count": 13,
   "id": "c804f124-66bd-422d-9ddd-1fea27b3a4b5",
   "metadata": {},
   "outputs": [
    {
     "data": {
      "text/plain": [
       "A    2024\n",
       "B    22.0\n",
       "dtype: object"
      ]
     },
     "execution_count": 13,
     "metadata": {},
     "output_type": "execute_result"
    }
   ],
   "source": [
    "sr[:2]"
   ]
  },
  {
   "cell_type": "code",
   "execution_count": 14,
   "id": "f31c7a20-f1fb-451b-adce-388712fd88cc",
   "metadata": {},
   "outputs": [
    {
     "data": {
      "text/plain": [
       "A    2024\n",
       "B    22.0\n",
       "dtype: object"
      ]
     },
     "execution_count": 14,
     "metadata": {},
     "output_type": "execute_result"
    }
   ],
   "source": [
    "sr[:'B']"
   ]
  },
  {
   "cell_type": "code",
   "execution_count": 15,
   "id": "f8c09912-fdd7-4557-9e14-98df16de4d7b",
   "metadata": {},
   "outputs": [
    {
     "data": {
      "text/plain": [
       "2024"
      ]
     },
     "execution_count": 15,
     "metadata": {},
     "output_type": "execute_result"
    }
   ],
   "source": [
    "sr[0]"
   ]
  },
  {
   "cell_type": "code",
   "execution_count": 16,
   "id": "18371f04-db86-4083-9720-4653b578d445",
   "metadata": {},
   "outputs": [
    {
     "data": {
      "text/plain": [
       "Index([11, 22, 33], dtype='int64')"
      ]
     },
     "execution_count": 16,
     "metadata": {},
     "output_type": "execute_result"
    }
   ],
   "source": [
    "sr.index = [11, 22, 33]\n",
    "sr.index"
   ]
  },
  {
   "cell_type": "code",
   "execution_count": 17,
   "id": "cf34eedb-dd57-40d8-8ff6-bc4118a27419",
   "metadata": {},
   "outputs": [
    {
     "data": {
      "text/plain": [
       "2024"
      ]
     },
     "execution_count": 17,
     "metadata": {},
     "output_type": "execute_result"
    }
   ],
   "source": [
    "sr[11]"
   ]
  },
  {
   "cell_type": "code",
   "execution_count": 18,
   "id": "77d232ad-5bd6-45e3-a6aa-153d2b429573",
   "metadata": {},
   "outputs": [],
   "source": [
    "# 인덱스로 정수를 주었을 경우 위치 인덱스 사용 불가능 : 키 인덱스와 식별 불가하기 때문\n",
    "# sr[0]"
   ]
  },
  {
   "cell_type": "code",
   "execution_count": 19,
   "id": "659e6f3f-6b00-4880-a0cc-f76c5b778249",
   "metadata": {},
   "outputs": [
    {
     "name": "stdout",
     "output_type": "stream",
     "text": [
      "11 2024\n",
      "22 22.0\n",
      "33 33\n"
     ]
    }
   ],
   "source": [
    "for idx in sr.index:\n",
    "    print(idx, sr[idx])\n",
    "    if type(sr[idx]) is int:\n",
    "        sr[idx] += 1"
   ]
  },
  {
   "cell_type": "code",
   "execution_count": null,
   "id": "829a9d87-d5c2-4353-9777-8a1511a13c83",
   "metadata": {},
   "outputs": [],
   "source": []
  }
 ],
 "metadata": {
  "kernelspec": {
   "display_name": "Python 3 (ipykernel)",
   "language": "python",
   "name": "python3"
  },
  "language_info": {
   "codemirror_mode": {
    "name": "ipython",
    "version": 3
   },
   "file_extension": ".py",
   "mimetype": "text/x-python",
   "name": "python",
   "nbconvert_exporter": "python",
   "pygments_lexer": "ipython3",
   "version": "3.8.18"
  }
 },
 "nbformat": 4,
 "nbformat_minor": 5
}
