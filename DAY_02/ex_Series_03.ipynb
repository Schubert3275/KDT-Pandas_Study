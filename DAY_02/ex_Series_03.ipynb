{
 "cells": [
  {
   "cell_type": "markdown",
   "id": "a767ff3b",
   "metadata": {},
   "source": [
    "## [Series 객체 원소 인덱싱 & 슬라이싱]"
   ]
  },
  {
   "cell_type": "markdown",
   "id": "a18d294b",
   "metadata": {},
   "source": [
    "#### (1) 모듈 로딩 ------------------------------------------------"
   ]
  },
  {
   "cell_type": "code",
   "execution_count": 23,
   "id": "7fc2cd87",
   "metadata": {},
   "outputs": [],
   "source": [
    "from pandas import Series"
   ]
  },
  {
   "cell_type": "markdown",
   "id": "7e98edb3",
   "metadata": {},
   "source": [
    "#### (2) 데이터 준비 ----------------------------------------------"
   ]
  },
  {
   "cell_type": "code",
   "execution_count": 24,
   "id": "9ebafe5a",
   "metadata": {},
   "outputs": [],
   "source": [
    "datas = {'name': '홍길동', 'age': 12, 'job': '도적'}"
   ]
  },
  {
   "cell_type": "markdown",
   "id": "45b32e74",
   "metadata": {},
   "source": [
    "#### (3) Series 객체 생성 ----------------------------------------"
   ]
  },
  {
   "cell_type": "code",
   "execution_count": 25,
   "id": "71b85b56",
   "metadata": {},
   "outputs": [
    {
     "data": {
      "text/plain": [
       "name    홍길동\n",
       "age      12\n",
       "job      도적\n",
       "dtype: object"
      ]
     },
     "execution_count": 25,
     "metadata": {},
     "output_type": "execute_result"
    }
   ],
   "source": [
    "sr1 = Series(datas)\n",
    "sr1"
   ]
  },
  {
   "cell_type": "markdown",
   "id": "f5679445",
   "metadata": {},
   "source": [
    "#### (3) 인덱싱으로 원소 읽기 -----------------------------------"
   ]
  },
  {
   "cell_type": "markdown",
   "id": "30ec10f2",
   "metadata": {},
   "source": [
    "=> 1개 원소 읽기"
   ]
  },
  {
   "cell_type": "code",
   "execution_count": 26,
   "id": "4fe423c4",
   "metadata": {},
   "outputs": [
    {
     "data": {
      "text/plain": [
       "(12, 12, Index(['name', 'age', 'job'], dtype='object'))"
      ]
     },
     "execution_count": 26,
     "metadata": {},
     "output_type": "execute_result"
    }
   ],
   "source": [
    "sr1['age'], sr1[1], sr1.index"
   ]
  },
  {
   "cell_type": "markdown",
   "id": "ac80dd50",
   "metadata": {},
   "source": [
    "=> 2개 원소 읽기"
   ]
  },
  {
   "cell_type": "code",
   "execution_count": 27,
   "id": "f7666040",
   "metadata": {},
   "outputs": [
    {
     "data": {
      "text/plain": [
       "('홍길동', '도적', '홍길동', '도적', str)"
      ]
     },
     "execution_count": 27,
     "metadata": {},
     "output_type": "execute_result"
    }
   ],
   "source": [
    "# 이름과 직업 데이터 읽기 ==> 원소 단위로 읽기\n",
    "sr1['name'], sr1['job'], sr1[0], sr1[2], type(sr1[0])"
   ]
  },
  {
   "cell_type": "code",
   "execution_count": 28,
   "id": "60d6d832",
   "metadata": {},
   "outputs": [
    {
     "data": {
      "text/plain": [
       "(pandas.core.series.Series,\n",
       " name    홍길동\n",
       " job      도적\n",
       " dtype: object)"
      ]
     },
     "execution_count": 28,
     "metadata": {},
     "output_type": "execute_result"
    }
   ],
   "source": [
    "# 이름과 직업 데이터 읽기 ==> 리스트 단위로 읽기\n",
    "ret = sr1[['name', 'job']]\n",
    "ret2 = sr1[[0, 2]]\n",
    "type(ret), ret"
   ]
  },
  {
   "cell_type": "code",
   "execution_count": 29,
   "id": "b7d2af13",
   "metadata": {},
   "outputs": [
    {
     "data": {
      "text/plain": [
       "(pandas.core.series.Series,\n",
       " name    홍길동\n",
       " job      도적\n",
       " dtype: object)"
      ]
     },
     "execution_count": 29,
     "metadata": {},
     "output_type": "execute_result"
    }
   ],
   "source": [
    "type(ret2), ret2"
   ]
  },
  {
   "cell_type": "markdown",
   "id": "e819dfee",
   "metadata": {},
   "source": [
    "#### (4) 슬라이싱으로 원소 읽기 -----------------------------------"
   ]
  },
  {
   "cell_type": "markdown",
   "id": "58f6cb7b",
   "metadata": {},
   "source": [
    "- 위치 인덱스로 슬라이싱"
   ]
  },
  {
   "cell_type": "code",
   "execution_count": 30,
   "id": "05ac3589",
   "metadata": {},
   "outputs": [
    {
     "data": {
      "text/plain": [
       "name    홍길동\n",
       "age      12\n",
       "dtype: object"
      ]
     },
     "execution_count": 30,
     "metadata": {},
     "output_type": "execute_result"
    }
   ],
   "source": [
    "sr1[:2]  # 시작 <= ~ < 끝"
   ]
  },
  {
   "cell_type": "code",
   "execution_count": 31,
   "id": "e4695962",
   "metadata": {},
   "outputs": [
    {
     "data": {
      "text/plain": [
       "name    홍길동\n",
       "age      12\n",
       "job      도적\n",
       "dtype: object"
      ]
     },
     "execution_count": 31,
     "metadata": {},
     "output_type": "execute_result"
    }
   ],
   "source": [
    "sr1[:]"
   ]
  },
  {
   "cell_type": "code",
   "execution_count": 32,
   "id": "7699a912",
   "metadata": {},
   "outputs": [
    {
     "data": {
      "text/plain": [
       "name    홍길동\n",
       "age      12\n",
       "dtype: object"
      ]
     },
     "execution_count": 32,
     "metadata": {},
     "output_type": "execute_result"
    }
   ],
   "source": [
    "sr1[:-1]"
   ]
  },
  {
   "cell_type": "code",
   "execution_count": 33,
   "id": "17e8dbe1",
   "metadata": {},
   "outputs": [
    {
     "data": {
      "text/plain": [
       "name    홍길동\n",
       "dtype: object"
      ]
     },
     "execution_count": 33,
     "metadata": {},
     "output_type": "execute_result"
    }
   ],
   "source": [
    "sr1[:-2]"
   ]
  },
  {
   "cell_type": "markdown",
   "id": "68b8bdcf",
   "metadata": {},
   "source": [
    "- 레이블 인덱스로 읽기"
   ]
  },
  {
   "cell_type": "code",
   "execution_count": 34,
   "id": "f721859c",
   "metadata": {},
   "outputs": [
    {
     "data": {
      "text/plain": [
       "name    홍길동\n",
       "age      12\n",
       "job      도적\n",
       "dtype: object"
      ]
     },
     "execution_count": 34,
     "metadata": {},
     "output_type": "execute_result"
    }
   ],
   "source": [
    "sr1['name':'job']  # 시작 <= ~ <= 끝"
   ]
  },
  {
   "cell_type": "code",
   "execution_count": 35,
   "id": "8d631269",
   "metadata": {},
   "outputs": [
    {
     "data": {
      "text/plain": [
       "name    홍길동\n",
       "age      12\n",
       "dtype: object"
      ]
     },
     "execution_count": 35,
     "metadata": {},
     "output_type": "execute_result"
    }
   ],
   "source": [
    "sr1['name':'age']"
   ]
  }
 ],
 "metadata": {
  "kernelspec": {
   "display_name": "My_38",
   "language": "python",
   "name": "python3"
  },
  "language_info": {
   "codemirror_mode": {
    "name": "ipython",
    "version": 3
   },
   "file_extension": ".py",
   "mimetype": "text/x-python",
   "name": "python",
   "nbconvert_exporter": "python",
   "pygments_lexer": "ipython3",
   "version": "3.8.18"
  }
 },
 "nbformat": 4,
 "nbformat_minor": 5
}
