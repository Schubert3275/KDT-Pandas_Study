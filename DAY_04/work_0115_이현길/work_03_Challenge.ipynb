{
 "cells": [
  {
   "cell_type": "markdown",
   "metadata": {},
   "source": [
    "## [코딩 챌린지]"
   ]
  },
  {
   "cell_type": "code",
   "execution_count": 1,
   "metadata": {},
   "outputs": [
    {
     "data": {
      "text/plain": [
       "'Saturday'"
      ]
     },
     "execution_count": 1,
     "metadata": {},
     "output_type": "execute_result"
    }
   ],
   "source": [
    "import pandas as pd\n",
    "import datetime as dt\n",
    "today = dt.datetime(2020, 12, 26)\n",
    "today.strftime('%A')\n"
   ]
  },
  {
   "cell_type": "code",
   "execution_count": 8,
   "metadata": {},
   "outputs": [
    {
     "data": {
      "text/plain": [
       "0     1774-09-01\n",
       "1     1774-12-14\n",
       "2     1775-04-19\n",
       "3     1775-04-19\n",
       "4     1775-04-20\n",
       "         ...    \n",
       "227   1782-09-11\n",
       "228   1782-09-13\n",
       "229   1782-10-18\n",
       "230   1782-12-06\n",
       "231   1783-01-22\n",
       "Name: Start Date, Length: 232, dtype: datetime64[ns]"
      ]
     },
     "execution_count": 8,
     "metadata": {},
     "output_type": "execute_result"
    }
   ],
   "source": [
    "days_of_war = pd.read_csv(\n",
    "    '../../DATA/revolutionary_war.csv',\n",
    "    parse_dates=['Start Date'],\n",
    "    usecols=['Start Date']\n",
    "    ).squeeze()\n",
    "days_of_war\n"
   ]
  },
  {
   "cell_type": "code",
   "execution_count": 9,
   "metadata": {},
   "outputs": [],
   "source": [
    "def day_of_week(date):\n",
    "    return date.strftime('%A')\n"
   ]
  },
  {
   "cell_type": "code",
   "execution_count": 11,
   "metadata": {},
   "outputs": [
    {
     "data": {
      "text/plain": [
       "0       Thursday\n",
       "1      Wednesday\n",
       "2      Wednesday\n",
       "3      Wednesday\n",
       "4       Thursday\n",
       "         ...    \n",
       "227    Wednesday\n",
       "228       Friday\n",
       "229       Friday\n",
       "230       Friday\n",
       "231    Wednesday\n",
       "Name: Start Date, Length: 228, dtype: object"
      ]
     },
     "execution_count": 11,
     "metadata": {},
     "output_type": "execute_result"
    }
   ],
   "source": [
    "days_of_war.dropna().apply(day_of_week)\n"
   ]
  },
  {
   "cell_type": "code",
   "execution_count": 12,
   "metadata": {},
   "outputs": [
    {
     "data": {
      "text/plain": [
       "Start Date\n",
       "Saturday     39\n",
       "Friday       39\n",
       "Wednesday    32\n",
       "Thursday     31\n",
       "Sunday       31\n",
       "Tuesday      29\n",
       "Monday       27\n",
       "Name: count, dtype: int64"
      ]
     },
     "execution_count": 12,
     "metadata": {},
     "output_type": "execute_result"
    }
   ],
   "source": [
    "days_of_war.dropna().apply(day_of_week).value_counts()\n"
   ]
  },
  {
   "cell_type": "code",
   "execution_count": null,
   "metadata": {},
   "outputs": [],
   "source": []
  }
 ],
 "metadata": {
  "kernelspec": {
   "display_name": "Python 3 (ipykernel)",
   "language": "python",
   "name": "python3"
  },
  "language_info": {
   "codemirror_mode": {
    "name": "ipython",
    "version": 3
   },
   "file_extension": ".py",
   "mimetype": "text/x-python",
   "name": "python",
   "nbconvert_exporter": "python",
   "pygments_lexer": "ipython3",
   "version": "3.8.18"
  }
 },
 "nbformat": 4,
 "nbformat_minor": 4
}
